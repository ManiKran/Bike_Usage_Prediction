{
  "cells": [
    {
      "cell_type": "markdown",
      "metadata": {
        "id": "MNvKK6AgCZBw"
      },
      "source": [
        "# Loading and Combining the data"
      ]
    },
    {
      "cell_type": "code",
      "execution_count": 1,
      "metadata": {
        "colab": {
          "base_uri": "https://localhost:8080/"
        },
        "id": "iEWlMv9JTHnV",
        "outputId": "249984ea-04c8-4462-9187-75be69d2e56e"
      },
      "outputs": [
        {
          "name": "stdout",
          "output_type": "stream",
          "text": [
            "+----------------+-------------+-------------------+-------------------+--------------------+----------------+--------------------+--------------+------------------+------------------+-----------------+------------------+-------------+\n",
            "|         ride_id|rideable_type|         started_at|           ended_at|  start_station_name|start_station_id|    end_station_name|end_station_id|         start_lat|         start_lng|          end_lat|           end_lng|member_casual|\n",
            "+----------------+-------------+-------------------+-------------------+--------------------+----------------+--------------------+--------------+------------------+------------------+-----------------+------------------+-------------+\n",
            "|C2F7DD78E82EC875|electric_bike|2022-01-13 11:59:47|2022-01-13 12:02:44|Glenwood Ave & To...|             525|Clark St & Touhy Ave|        RP-007|        42.0128005|        -87.665906|   42.01256011541|    -87.6743671152|       casual|\n",
            "|A6CF8980A652D272|electric_bike|2022-01-10 08:41:56|2022-01-10 08:46:17|Glenwood Ave & To...|             525|Clark St & Touhy Ave|        RP-007|         42.012763|       -87.6659675|   42.01256011541|    -87.6743671152|       casual|\n",
            "|BD0F91DFF741C66D| classic_bike|2022-01-25 04:53:40|2022-01-25 04:58:01|Sheffield Ave & F...|    TA1306000016|Greenview Ave & F...|  TA1307000001|     41.9256018819|    -87.6537080423|         41.92533|          -87.6658|       member|\n",
            "|CBB80ED419105406| classic_bike|2022-01-04 00:18:04|2022-01-04 00:33:00|Clark St & Bryn M...|    KA1504000151|Paulina St & Mont...|  TA1309000021|         41.983593|        -87.669154|        41.961507|        -87.671387|       casual|\n",
            "|DDC963BFDDA51EEA| classic_bike|2022-01-20 01:31:10|2022-01-20 01:37:12|Michigan Ave & Ja...|    TA1309000002|State St & Randol...|  TA1305000029|          41.87785|         -87.62408|41.88462107257936|-87.62783423066139|       member|\n",
            "|A39C6F6CC0586C0B| classic_bike|2022-01-11 18:48:09|2022-01-11 18:51:31|Wood St & Chicago...|             637|Honore St & Divis...|  TA1305000034|         41.895634|        -87.672069|        41.903119|        -87.673935|       member|\n",
            "|BDC4AB637EDF981B| classic_bike|2022-01-30 18:32:52|2022-01-30 18:49:26|Oakley Ave & Irvi...|    KA1504000158|Broadway & Sherid...|         13323|    41.95434085219|    -87.6860796243|        41.952833|        -87.649993|       member|\n",
            "|81751A3186E59A6B| classic_bike|2022-01-22 12:20:02|2022-01-22 12:32:06|Sheffield Ave & F...|    TA1306000016|Damen Ave & Clybo...|         13271|     41.9256018819|    -87.6537080423|        41.931931|        -87.677856|       member|\n",
            "|154222B86A338ABD|electric_bike|2022-01-17 07:34:41|2022-01-17 08:00:08|Racine Ave & 15th St|           13304|Clinton St & Wash...|        WL-012|41.861251333333335|-87.65650016666666|         41.88338|         -87.64117|       member|\n",
            "|72DC25B2DD467EEF| classic_bike|2022-01-28 15:27:53|2022-01-28 15:35:16|LaSalle St & Jack...|    TA1309000004|Clinton St & Wash...|        WL-012|         41.878166|        -87.631929|         41.88338|         -87.64117|       member|\n",
            "|F20394FE09C63DB2| classic_bike|2022-01-11 18:27:59|2022-01-11 18:34:20|LaSalle St & Jack...|    TA1309000004|Clinton St & Wash...|        WL-012|         41.878166|        -87.631929|         41.88338|         -87.64117|       member|\n",
            "|006D3F363CF9600B|electric_bike|2022-01-29 12:30:43|2022-01-29 12:43:04|Clarendon Ave & L...|    TA1307000119|Broadway & Granvi...|         15571|         41.967962|       -87.6500285|    41.9947796884|    -87.6602845349|       member|\n",
            "|FB258EEBE89F4E17| classic_bike|2022-01-02 17:56:18|2022-01-02 18:05:38|Sheffield Ave & F...|    TA1306000016|Stockton Dr & Wri...|         13276|     41.9256018819|    -87.6537080423|         41.93132|        -87.638742|       member|\n",
            "|2EF51270B08DEE03| classic_bike|2022-01-20 22:03:06|2022-01-20 22:09:59|Rush St & Superio...|           15530|Larrabee St & Kin...|  TA1306000009|    41.89576474564|    -87.6259080327|        41.897764|        -87.642884|       member|\n",
            "|E119D4E6BF686601|electric_bike|2022-01-08 05:36:40|2022-01-08 05:46:40|Michigan Ave & Ja...|    TA1309000002|St. Clair St & Er...|         13016| 41.87784933333333|        -87.624056|41.89434513742426|-87.62279838323593|       casual|\n",
            "|7DD70C4AA0F3EA7B| classic_bike|2022-01-14 05:47:07|2022-01-14 05:47:39|Lincoln Park Cons...|             LP-|Lincoln Park Cons...|           LP-| 41.92393131136619|-87.63582453131676|41.92393131136619|-87.63582453131676|       member|\n",
            "|0AA241497B970400| classic_bike|2022-01-12 14:09:13|2022-01-12 14:10:53|LaSalle St & Jack...|    TA1309000004|Clark St & Ida B ...|  TA1305000009|         41.878166|        -87.631929|    41.8759326655|    -87.6305845355|       member|\n",
            "|F5E6D97D85BE8039| classic_bike|2022-01-31 12:07:45|2022-01-31 12:12:48|Michigan Ave & Ja...|    TA1309000002|Indiana Ave & Roo...|        SL-005|          41.87785|         -87.62408|        41.867888|        -87.623041|       member|\n",
            "|78168928DF06A497| classic_bike|2022-01-28 17:21:59|2022-01-28 17:26:54|Michigan Ave & Ja...|    TA1309000002|Indiana Ave & Roo...|        SL-005|          41.87785|         -87.62408|        41.867888|        -87.623041|       member|\n",
            "|15C176B55C2BC059| classic_bike|2022-01-19 21:00:40|2022-01-19 21:09:56|Clark St & Bryn M...|    KA1504000151|Clark St & Schrei...|  KA1504000156|         41.983593|        -87.669154|   41.99925182186|    -87.6713773393|       member|\n",
            "+----------------+-------------+-------------------+-------------------+--------------------+----------------+--------------------+--------------+------------------+------------------+-----------------+------------------+-------------+\n",
            "only showing top 20 rows\n",
            "\n",
            "root\n",
            " |-- ride_id: string (nullable = true)\n",
            " |-- rideable_type: string (nullable = true)\n",
            " |-- started_at: timestamp (nullable = true)\n",
            " |-- ended_at: timestamp (nullable = true)\n",
            " |-- start_station_name: string (nullable = true)\n",
            " |-- start_station_id: string (nullable = true)\n",
            " |-- end_station_name: string (nullable = true)\n",
            " |-- end_station_id: string (nullable = true)\n",
            " |-- start_lat: double (nullable = true)\n",
            " |-- start_lng: double (nullable = true)\n",
            " |-- end_lat: double (nullable = true)\n",
            " |-- end_lng: double (nullable = true)\n",
            " |-- member_casual: string (nullable = true)\n",
            "\n"
          ]
        }
      ],
      "source": [
        "from pyspark.sql import SparkSession\n",
        "\n",
        "# Initialize SparkSession\n",
        "spark = SparkSession.builder.appName(\"DIVVYBikesPrediction\").getOrCreate()\n",
        "\n",
        "# Path to your CSV file\n",
        "csv_file_path = \"./Combined_data.csv\"\n",
        "\n",
        "# Read the CSV file\n",
        "whole_data = spark.read.csv(csv_file_path, header=True, inferSchema=True)\n",
        "\n",
        "# Show the first few rows\n",
        "whole_data.show()\n",
        "\n",
        "# Print the schema to verify column data types\n",
        "whole_data.printSchema()"
      ]
    },
    {
      "cell_type": "markdown",
      "metadata": {
        "id": "ok5XGOxxDgL_"
      },
      "source": [
        "# Knowing the Data"
      ]
    },
    {
      "cell_type": "code",
      "execution_count": 2,
      "metadata": {
        "colab": {
          "base_uri": "https://localhost:8080/"
        },
        "id": "FK4-kFccTkwT",
        "outputId": "4879b4e8-6f11-45aa-9ffa-3db9015d5adb"
      },
      "outputs": [
        {
          "name": "stdout",
          "output_type": "stream",
          "text": [
            "+-------+-------------+----------+--------+------------------+----------------+----------------+--------------+---------+---------+-------+-------+-------------+\n",
            "|ride_id|rideable_type|started_at|ended_at|start_station_name|start_station_id|end_station_name|end_station_id|start_lat|start_lng|end_lat|end_lng|member_casual|\n",
            "+-------+-------------+----------+--------+------------------+----------------+----------------+--------------+---------+---------+-------+-------+-------------+\n",
            "|      0|            0|         0|       0|           1708780|         1708912|         1821944|       1822085|        0|        0|  12848|  12848|            0|\n",
            "+-------+-------------+----------+--------+------------------+----------------+----------------+--------------+---------+---------+-------+-------+-------------+\n",
            "\n"
          ]
        }
      ],
      "source": [
        "from pyspark.sql.functions import col, sum, when\n",
        "\n",
        "# Calculate the number of null values in each column\n",
        "null_counts = whole_data.select(\n",
        "    [(sum(when(col(c).isNull(), 1).otherwise(0)).alias(c)) for c in whole_data.columns]\n",
        ")\n",
        "\n",
        "# Show the result\n",
        "null_counts.show()"
      ]
    },
    {
      "cell_type": "code",
      "execution_count": 3,
      "metadata": {
        "colab": {
          "base_uri": "https://localhost:8080/",
          "height": 673
        },
        "id": "eK8H9_2uT9qs",
        "outputId": "c27d531d-a74a-4b0f-f2b8-af154b77f083"
      },
      "outputs": [
        {
          "name": "stderr",
          "output_type": "stream",
          "text": [
            "<ipython-input-3-3529615711e7>:21: FutureWarning: \n",
            "\n",
            "Passing `palette` without assigning `hue` is deprecated and will be removed in v0.14.0. Assign the `x` variable to `hue` and set `legend=False` for the same effect.\n",
            "\n",
            "  sns.barplot(x=null_counts_pd[\"rideable_type\"], y=null_counts_pd[\"null_count\"], palette=\"viridis\")\n"
          ]
        },
        {
          "data": {
            "image/png": "[encoded data removed]",
            "text/plain": [
              "<Figure size 800x600 with 1 Axes>"
            ]
          },
          "metadata": {},
          "output_type": "display_data"
        }
      ],
      "source": [
        "from pyspark.sql.functions import col, count\n",
        "import pandas as pd\n",
        "import matplotlib.pyplot as plt\n",
        "import seaborn as sns\n",
        "\n",
        "# Filter rows where 'start_station_id' is null\n",
        "null_start_station_id_data = whole_data.filter(col(\"start_station_id\").isNull())\n",
        "\n",
        "# Count the null values grouped by 'rideable_type'\n",
        "null_counts = (\n",
        "    null_start_station_id_data.groupBy(\"rideable_type\")\n",
        "    .agg(count(\"*\").alias(\"null_count\"))\n",
        "    .orderBy(\"null_count\", ascending=False)\n",
        ")\n",
        "\n",
        "# Convert the PySpark DataFrame to Pandas for visualization\n",
        "null_counts_pd = null_counts.toPandas()\n",
        "\n",
        "# Plot the results\n",
        "plt.figure(figsize=(8, 6))\n",
        "sns.barplot(x=null_counts_pd[\"rideable_type\"], y=null_counts_pd[\"null_count\"], palette=\"viridis\")\n",
        "plt.title(\"Null values in start_station_id by rideable_type\")\n",
        "plt.xlabel(\"Rideable Types\")\n",
        "plt.ylabel(\"Count of Null Values\")\n",
        "plt.show()"
      ]
    },
    {
      "cell_type": "code",
      "execution_count": 4,
      "metadata": {
        "colab": {
          "base_uri": "https://localhost:8080/",
          "height": 673
        },
        "id": "l1w6T2v7Up28",
        "outputId": "20c6e3b0-8883-4388-cfaf-ea810a1f03ff"
      },
      "outputs": [
        {
          "name": "stderr",
          "output_type": "stream",
          "text": [
            "<ipython-input-4-c791c756bf67>:15: FutureWarning: \n",
            "\n",
            "Passing `palette` without assigning `hue` is deprecated and will be removed in v0.14.0. Assign the `x` variable to `hue` and set `legend=False` for the same effect.\n",
            "\n",
            "  sns.barplot(x=null_counts_pd[\"rideable_type\"], y=null_counts_pd[\"null_count\"], palette=\"viridis\")\n"
          ]
        },
        {
          "data": {
            "image/png": "[encoded data removed]",
            "text/plain": [
              "<Figure size 800x600 with 1 Axes>"
            ]
          },
          "metadata": {},
          "output_type": "display_data"
        }
      ],
      "source": [
        "null_end_station_id_data = whole_data.filter(col(\"end_station_id\").isNull())\n",
        "\n",
        "# Count the null values grouped by 'rideable_type'\n",
        "null_counts = (\n",
        "    null_end_station_id_data.groupBy(\"rideable_type\")\n",
        "    .agg(count(\"*\").alias(\"null_count\"))\n",
        "    .orderBy(\"null_count\", ascending=False)\n",
        ")\n",
        "\n",
        "# Convert the PySpark DataFrame to Pandas for visualization\n",
        "null_counts_pd = null_counts.toPandas()\n",
        "\n",
        "# Plot the results\n",
        "plt.figure(figsize=(8, 6))\n",
        "sns.barplot(x=null_counts_pd[\"rideable_type\"], y=null_counts_pd[\"null_count\"], palette=\"viridis\")\n",
        "plt.title(\"Null values in end_station_id by rideable_type\")\n",
        "plt.xlabel(\"Rideable Types\")\n",
        "plt.ylabel(\"Count of Null Values\")\n",
        "plt.show()"
      ]
    },
    {
      "cell_type": "code",
      "execution_count": 5,
      "metadata": {
        "colab": {
          "base_uri": "https://localhost:8080/",
          "height": 673
        },
        "id": "hYGaEABLUtCm",
        "outputId": "fa634e08-6791-45af-9525-cdfdc274fe60"
      },
      "outputs": [
        {
          "name": "stderr",
          "output_type": "stream",
          "text": [
            "<ipython-input-5-0771bc6b2bf6>:12: FutureWarning: \n",
            "\n",
            "Passing `palette` without assigning `hue` is deprecated and will be removed in v0.14.0. Assign the `x` variable to `hue` and set `legend=False` for the same effect.\n",
            "\n",
            "  sns.barplot(x=rideable_type_counts_pd[\"rideable_type\"], y=rideable_type_counts_pd[\"counts\"], palette=\"viridis\")\n"
          ]
        },
        {
          "data": {
            "image/png": "[encoded data removed]",
            "text/plain": [
              "<Figure size 800x600 with 1 Axes>"
            ]
          },
          "metadata": {},
          "output_type": "display_data"
        }
      ],
      "source": [
        "rideable_type_counts = (\n",
        "    whole_data.groupBy(\"rideable_type\")\n",
        "    .agg(count(\"*\").alias(\"counts\"))\n",
        "    .orderBy(\"counts\", ascending=False)\n",
        ")\n",
        "\n",
        "# Step 2: Convert to Pandas DataFrame for visualization\n",
        "rideable_type_counts_pd = rideable_type_counts.toPandas()\n",
        "\n",
        "# Step 3: Plot the histogram using Seaborn\n",
        "plt.figure(figsize=(8, 6))\n",
        "sns.barplot(x=rideable_type_counts_pd[\"rideable_type\"], y=rideable_type_counts_pd[\"counts\"], palette=\"viridis\")\n",
        "plt.xlabel(\"Rideable Type\")\n",
        "plt.ylabel(\"Counts\")\n",
        "plt.title(\"Histogram of Rideable Types\")\n",
        "plt.show()"
      ]
    },
    {
      "cell_type": "code",
      "execution_count": 6,
      "metadata": {
        "colab": {
          "base_uri": "https://localhost:8080/"
        },
        "id": "woi7WUmMVGEe",
        "outputId": "59eeba8b-3036-4ee1-cfc6-1a563c258f26"
      },
      "outputs": [
        {
          "name": "stdout",
          "output_type": "stream",
          "text": [
            "+-------+-------------+----------+--------+------------------+----------------+---------+---------+-------------+\n",
            "|ride_id|rideable_type|started_at|ended_at|start_station_name|start_station_id|start_lat|start_lng|member_casual|\n",
            "+-------+-------------+----------+--------+------------------+----------------+---------+---------+-------------+\n",
            "|      0|            0|         0|       0|                 0|               0|        0|        0|            0|\n",
            "+-------+-------------+----------+--------+------------------+----------------+---------+---------+-------------+\n",
            "\n"
          ]
        }
      ],
      "source": [
        "dropping_columns_for_part_A = ['end_station_name', 'end_station_id', 'end_lat', 'end_lng']\n",
        "whole_part_A_Processed = whole_data.drop(*dropping_columns_for_part_A)\n",
        "\n",
        "# Step 2: Drop rows with null values in 'start_station_id'\n",
        "whole_part_A_Processed = whole_part_A_Processed.na.drop(subset=['start_station_id'])\n",
        "\n",
        "# Step 3: Count null values in each column\n",
        "null_counts = whole_part_A_Processed.select([\n",
        "    (col(c).isNull().cast(\"int\")).alias(c) for c in whole_part_A_Processed.columns\n",
        "]).agg(*[\n",
        "    sum(col(c)).alias(c) for c in whole_part_A_Processed.columns\n",
        "])\n",
        "\n",
        "# Show the null value counts\n",
        "null_counts.show()"
      ]
    },
    {
      "cell_type": "code",
      "execution_count": 7,
      "metadata": {
        "colab": {
          "base_uri": "https://localhost:8080/"
        },
        "id": "6hlZ5DIHVQyE",
        "outputId": "6b388b94-9424-4453-ead7-fad4bc87d4e0"
      },
      "outputs": [
        {
          "name": "stdout",
          "output_type": "stream",
          "text": [
            "Shape: (9678682, 9)\n"
          ]
        }
      ],
      "source": [
        "num_rows = whole_part_A_Processed.count()\n",
        "\n",
        "# Get the number of columns\n",
        "num_columns = len(whole_part_A_Processed.columns)\n",
        "\n",
        "# Print the shape\n",
        "print(f\"Shape: ({num_rows}, {num_columns})\")"
      ]
    },
    {
      "cell_type": "markdown",
      "metadata": {
        "id": "ajadc3QeDm56"
      },
      "source": [
        "# Creating the mean_latitude and mean_longitude for each unique start_station_id to refer the station witht their latitude and longitude."
      ]
    },
    {
      "cell_type": "code",
      "execution_count": 8,
      "metadata": {
        "colab": {
          "base_uri": "https://localhost:8080/"
        },
        "id": "g1mcoi-uVbQ0",
        "outputId": "f345e790-7475-41b2-c47d-7b6ace18fbde"
      },
      "outputs": [
        {
          "name": "stdout",
          "output_type": "stream",
          "text": [
            "+----------------+----------------+-------------+-------------------+-------------------+--------------------+------------------+------------------+-------------+------------------+------------------+\n",
            "|start_station_id|         ride_id|rideable_type|         started_at|           ended_at|  start_station_name|         start_lat|         start_lng|member_casual|     mean_latitude|    mean_longitude|\n",
            "+----------------+----------------+-------------+-------------------+-------------------+--------------------+------------------+------------------+-------------+------------------+------------------+\n",
            "|    TA1309000002|DDC963BFDDA51EEA| classic_bike|2022-01-20 01:31:10|2022-01-20 01:37:12|Michigan Ave & Ja...|          41.87785|         -87.62408|       member|41.877959132113894|-87.62410632611108|\n",
            "|    TA1309000002|E119D4E6BF686601|electric_bike|2022-01-08 05:36:40|2022-01-08 05:46:40|Michigan Ave & Ja...| 41.87784933333333|        -87.624056|       casual|41.877959132113894|-87.62410632611108|\n",
            "|    TA1309000002|F5E6D97D85BE8039| classic_bike|2022-01-31 12:07:45|2022-01-31 12:12:48|Michigan Ave & Ja...|          41.87785|         -87.62408|       member|41.877959132113894|-87.62410632611108|\n",
            "|    TA1309000002|78168928DF06A497| classic_bike|2022-01-28 17:21:59|2022-01-28 17:26:54|Michigan Ave & Ja...|          41.87785|         -87.62408|       member|41.877959132113894|-87.62410632611108|\n",
            "|           13304|154222B86A338ABD|electric_bike|2022-01-17 07:34:41|2022-01-17 08:00:08|Racine Ave & 15th St|41.861251333333335|-87.65650016666666|       member| 41.86128131006682|-87.65655290521154|\n",
            "|             LP-|7DD70C4AA0F3EA7B| classic_bike|2022-01-14 05:47:07|2022-01-14 05:47:39|Lincoln Park Cons...| 41.92393131136619|-87.63582453131676|       member| 41.92397769516714|-87.63585408226788|\n",
            "|             LP-|12D2B5AA545EF922| classic_bike|2022-01-24 15:19:37|2022-01-24 15:45:27|Lincoln Park Cons...| 41.92393131136619|-87.63582453131676|       member| 41.92397769516714|-87.63585408226788|\n",
            "|    KA1504000158|BDC4AB637EDF981B| classic_bike|2022-01-30 18:32:52|2022-01-30 18:49:26|Oakley Ave & Irvi...|    41.95434085219|    -87.6860796243|       member|  41.9542974279862|-87.68605288074181|\n",
            "|             525|C2F7DD78E82EC875|electric_bike|2022-01-13 11:59:47|2022-01-13 12:02:44|Glenwood Ave & To...|        42.0128005|        -87.665906|       casual| 42.01209642672297|-87.66623784641001|\n",
            "|             525|A6CF8980A652D272|electric_bike|2022-01-10 08:41:56|2022-01-10 08:46:17|Glenwood Ave & To...|         42.012763|       -87.6659675|       casual| 42.01209642672297|-87.66623784641001|\n",
            "|    KA1504000151|CBB80ED419105406| classic_bike|2022-01-04 00:18:04|2022-01-04 00:33:00|Clark St & Bryn M...|         41.983593|        -87.669154|       casual| 41.98356195572525|-87.66917198862319|\n",
            "|    KA1504000151|15C176B55C2BC059| classic_bike|2022-01-19 21:00:40|2022-01-19 21:09:56|Clark St & Bryn M...|         41.983593|        -87.669154|       member| 41.98356195572525|-87.66917198862319|\n",
            "|    TA1309000004|72DC25B2DD467EEF| classic_bike|2022-01-28 15:27:53|2022-01-28 15:35:16|LaSalle St & Jack...|         41.878166|        -87.631929|       member| 41.87810839271481|-87.63185226219144|\n",
            "|    TA1309000004|F20394FE09C63DB2| classic_bike|2022-01-11 18:27:59|2022-01-11 18:34:20|LaSalle St & Jack...|         41.878166|        -87.631929|       member| 41.87810839271481|-87.63185226219144|\n",
            "|    TA1309000004|0AA241497B970400| classic_bike|2022-01-12 14:09:13|2022-01-12 14:10:53|LaSalle St & Jack...|         41.878166|        -87.631929|       member| 41.87810839271481|-87.63185226219144|\n",
            "|    TA1306000016|BD0F91DFF741C66D| classic_bike|2022-01-25 04:53:40|2022-01-25 04:58:01|Sheffield Ave & F...|     41.9256018819|    -87.6537080423|       member|41.925594933358134|-87.65371090925457|\n",
            "|    TA1306000016|81751A3186E59A6B| classic_bike|2022-01-22 12:20:02|2022-01-22 12:32:06|Sheffield Ave & F...|     41.9256018819|    -87.6537080423|       member|41.925594933358134|-87.65371090925457|\n",
            "|    TA1306000016|FB258EEBE89F4E17| classic_bike|2022-01-02 17:56:18|2022-01-02 18:05:38|Sheffield Ave & F...|     41.9256018819|    -87.6537080423|       member|41.925594933358134|-87.65371090925457|\n",
            "|    TA1307000119|006D3F363CF9600B|electric_bike|2022-01-29 12:30:43|2022-01-29 12:43:04|Clarendon Ave & L...|         41.967962|       -87.6500285|       member| 41.96794179683267|-87.65002255637802|\n",
            "|           15530|2EF51270B08DEE03| classic_bike|2022-01-20 22:03:06|2022-01-20 22:09:59|Rush St & Superio...|    41.89576474564|    -87.6259080327|       member| 41.89574151747652|-87.62602607912974|\n",
            "+----------------+----------------+-------------+-------------------+-------------------+--------------------+------------------+------------------+-------------+------------------+------------------+\n",
            "only showing top 20 rows\n",
            "\n"
          ]
        }
      ],
      "source": [
        "from pyspark.sql import functions as F\n",
        "\n",
        "# Calculate mean latitude and longitude for each start_station_id\n",
        "means_df = whole_part_A_Processed.groupBy(\"start_station_id\").agg(\n",
        "    F.mean(\"start_lat\").alias(\"mean_latitude\"),\n",
        "    F.mean(\"start_lng\").alias(\"mean_longitude\")\n",
        ")\n",
        "\n",
        "# Join the means back to the original DataFrame\n",
        "whole_part_A_Processed = whole_part_A_Processed.join(\n",
        "    means_df,\n",
        "    on=\"start_station_id\",\n",
        "    how=\"left\"\n",
        ")\n",
        "\n",
        "# Show the resulting DataFrame\n",
        "whole_part_A_Processed.show()"
      ]
    },
    {
      "cell_type": "code",
      "execution_count": 9,
      "metadata": {
        "colab": {
          "base_uri": "https://localhost:8080/"
        },
        "id": "LusibQOZVtU7",
        "outputId": "539f38ef-31ca-4826-ae1b-c970cae8856d"
      },
      "outputs": [
        {
          "name": "stdout",
          "output_type": "stream",
          "text": [
            "+----------------+----------------+-------------+-------------------+-------------------+--------------------+-------------+--------------+-------------+------------------+------------------+\n",
            "|start_station_id|         ride_id|rideable_type|         started_at|           ended_at|  start_station_name|    start_lat|     start_lng|member_casual|     mean_latitude|    mean_longitude|\n",
            "+----------------+----------------+-------------+-------------------+-------------------+--------------------+-------------+--------------+-------------+------------------+------------------+\n",
            "|    TA1309000002|DDC963BFDDA51EEA| classic_bike|2022-01-20 01:31:10|2022-01-20 01:37:12|Michigan Ave & Ja...|     41.87785|     -87.62408|       member|41.877959132113894|-87.62410632611108|\n",
            "|             525|C2F7DD78E82EC875|electric_bike|2022-01-13 11:59:47|2022-01-13 12:02:44|Glenwood Ave & To...|   42.0128005|    -87.665906|       casual| 42.01209642672297|-87.66623784641001|\n",
            "|             525|A6CF8980A652D272|electric_bike|2022-01-10 08:41:56|2022-01-10 08:46:17|Glenwood Ave & To...|    42.012763|   -87.6659675|       casual| 42.01209642672297|-87.66623784641001|\n",
            "|    KA1504000151|CBB80ED419105406| classic_bike|2022-01-04 00:18:04|2022-01-04 00:33:00|Clark St & Bryn M...|    41.983593|    -87.669154|       casual| 41.98356195572525|-87.66917198862319|\n",
            "|    TA1306000016|BD0F91DFF741C66D| classic_bike|2022-01-25 04:53:40|2022-01-25 04:58:01|Sheffield Ave & F...|41.9256018819|-87.6537080423|       member|41.925594933358134|-87.65371090925457|\n",
            "+----------------+----------------+-------------+-------------------+-------------------+--------------------+-------------+--------------+-------------+------------------+------------------+\n",
            "only showing top 5 rows\n",
            "\n"
          ]
        }
      ],
      "source": [
        "whole_part_A_Processed.show(5)"
      ]
    },
    {
      "cell_type": "code",
      "execution_count": 10,
      "metadata": {
        "colab": {
          "base_uri": "https://localhost:8080/"
        },
        "id": "Sqkb2-SaV_er",
        "outputId": "41dee6cc-9d02-4486-be16-4b655fbecb25"
      },
      "outputs": [
        {
          "name": "stdout",
          "output_type": "stream",
          "text": [
            "+-------------+-------------------+-------------+------------------+------------------+\n",
            "|rideable_type|         started_at|member_casual|     mean_latitude|    mean_longitude|\n",
            "+-------------+-------------------+-------------+------------------+------------------+\n",
            "| classic_bike|2022-01-20 01:31:10|       member|41.877959132113894|-87.62410632611108|\n",
            "|electric_bike|2022-01-13 11:59:47|       casual| 42.01209642672297|-87.66623784641001|\n",
            "|electric_bike|2022-01-10 08:41:56|       casual| 42.01209642672297|-87.66623784641001|\n",
            "| classic_bike|2022-01-04 00:18:04|       casual| 41.98356195572525|-87.66917198862319|\n",
            "| classic_bike|2022-01-25 04:53:40|       member|41.925594933358134|-87.65371090925457|\n",
            "+-------------+-------------------+-------------+------------------+------------------+\n",
            "only showing top 5 rows\n",
            "\n"
          ]
        }
      ],
      "source": [
        "columns_not_needed = [\"ride_id\", \"ended_at\", \"start_station_name\", \"start_station_id\", \"start_lat\", \"start_lng\"]\n",
        "\n",
        "# Drop the columns\n",
        "whole_part_A_Processed = whole_part_A_Processed.drop(*columns_not_needed)\n",
        "\n",
        "# Show the first few rows\n",
        "whole_part_A_Processed.show(5)"
      ]
    },
    {
      "cell_type": "markdown",
      "metadata": {
        "id": "hMwcWtxQW6PC"
      },
      "source": []
    },
    {
      "cell_type": "code",
      "execution_count": 11,
      "metadata": {
        "id": "j6clQsC6Ww2N"
      },
      "outputs": [],
      "source": [
        "whole_part_A_divvy_processed = whole_part_A_Processed"
      ]
    },
    {
      "cell_type": "markdown",
      "metadata": {
        "id": "ZqbxUF75EXtc"
      },
      "source": [
        "# Grouping the dataframe to get the total number of rides from each unique latitude and longitude set."
      ]
    },
    {
      "cell_type": "code",
      "execution_count": 12,
      "metadata": {
        "colab": {
          "base_uri": "https://localhost:8080/"
        },
        "id": "zn2VDjhBWQMw",
        "outputId": "e31cdda0-6208-41fa-8cd4-6ad1e61cc44b"
      },
      "outputs": [
        {
          "name": "stdout",
          "output_type": "stream",
          "text": [
            "+------------------+------------------+----------+----------+\n",
            "|     mean_latitude|    mean_longitude|      date|ride_count|\n",
            "+------------------+------------------+----------+----------+\n",
            "|41.919944054546505|-87.64884828432706|2022-02-11|        18|\n",
            "| 41.94304117507918|-87.68730012686402|2022-04-06|         4|\n",
            "|41.878124090182766|-87.64404281296741|2022-02-23|        10|\n",
            "|41.878124090182766|-87.64404281296741|2022-04-01|        30|\n",
            "| 41.87593901364749|-87.63068336039059|2022-03-30|        11|\n",
            "+------------------+------------------+----------+----------+\n",
            "only showing top 5 rows\n",
            "\n"
          ]
        }
      ],
      "source": [
        "from pyspark.sql.functions import col, to_date, count\n",
        "\n",
        "# Convert 'started_at' column to date format\n",
        "whole_part_A_divvy_processed = whole_part_A_divvy_processed.withColumn('date', to_date(col('started_at')))\n",
        "\n",
        "# Group by mean_latitude, mean_longitude, and date and count the number of rides for each group\n",
        "grouped = whole_part_A_divvy_processed.groupBy('mean_latitude', 'mean_longitude', 'date') \\\n",
        "    .agg(count('rideable_type').alias('ride_count'))\n",
        "\n",
        "# Show the result\n",
        "grouped.show(5)"
      ]
    },
    {
      "cell_type": "code",
      "execution_count": 13,
      "metadata": {
        "id": "0fKl9_5MWkSm"
      },
      "outputs": [],
      "source": [
        "grouped = grouped.withColumn('date', to_date('date'))"
      ]
    },
    {
      "cell_type": "markdown",
      "metadata": {
        "id": "KNQFr9xKFEbu"
      },
      "source": [
        "# Adding columns is_holiday and is_weekend columns"
      ]
    },
    {
      "cell_type": "code",
      "execution_count": 14,
      "metadata": {
        "colab": {
          "base_uri": "https://localhost:8080/"
        },
        "id": "ZTr5dlOZXejK",
        "outputId": "74c14439-a736-4f0c-ad52-c765b8e9352c"
      },
      "outputs": [
        {
          "name": "stdout",
          "output_type": "stream",
          "text": [
            "+------------------+------------------+----------+----------+----------+----------+\n",
            "|     mean_latitude|    mean_longitude|      date|ride_count|is_weekday|is_holiday|\n",
            "+------------------+------------------+----------+----------+----------+----------+\n",
            "|41.919944054546505|-87.64884828432706|2022-02-11|        18|         0|      true|\n",
            "| 41.94304117507918|-87.68730012686402|2022-04-06|         4|         1|     false|\n",
            "|41.878124090182766|-87.64404281296741|2022-02-23|        10|         1|     false|\n",
            "|41.878124090182766|-87.64404281296741|2022-04-01|        30|         0|     false|\n",
            "| 41.87593901364749|-87.63068336039059|2022-03-30|        11|         1|     false|\n",
            "| 41.90316994298406|-87.63444388368865|2022-04-13|        44|         1|     false|\n",
            "|41.837809866599706| -87.6511515888454|2022-01-15|         2|         0|     false|\n",
            "|  41.8984169131258|-87.68658986163125|2022-04-08|        10|         0|     false|\n",
            "|41.902345765021614|-87.62775505783299|2022-04-27|        30|         1|     false|\n",
            "| 41.83882995832776|-87.62185843453766|2022-02-08|         4|         1|     false|\n",
            "|41.902910255245025|-87.63772327056198|2022-02-26|         2|         0|     false|\n",
            "| 41.88019801868493|-87.63535827011283|2022-02-03|        11|         1|     false|\n",
            "|41.838456386738095| -87.6353911118366|2022-03-31|         5|         1|     false|\n",
            "|41.950708050482085|-87.78874879370777|2022-01-18|         1|         1|     false|\n",
            "|41.930451436257904|-87.78041486306338|2022-01-12|         1|         1|     false|\n",
            "| 41.78835426044172|-87.71022468035957|2022-03-23|         1|         1|     false|\n",
            "| 41.96162147062023|-87.65464011191898|2022-03-13|        27|         1|     false|\n",
            "| 41.97158252647566|-87.65017304634853|2022-04-20|         6|         1|     false|\n",
            "| 41.89482037237962|-87.63233210929742|2022-04-20|        21|         1|     false|\n",
            "| 41.95237723034713|-87.65375465780588|2022-01-16|         8|         1|     false|\n",
            "+------------------+------------------+----------+----------+----------+----------+\n",
            "only showing top 20 rows\n",
            "\n"
          ]
        }
      ],
      "source": [
        "from pyspark.sql.functions import col, dayofweek, to_date\n",
        "from pyspark.sql import functions as F\n",
        "\n",
        "# Sample holidays list\n",
        "holidays = [\n",
        "    '2021-12-31', '2022-01-17', '2022-02-11', '2022-02-21',\n",
        "    '2022-05-30', '2022-06-20', '2022-07-04', '2022-09-05',\n",
        "    '2022-10-10', '2022-11-08', '2022-11-11', '2022-11-24',\n",
        "    '2022-11-25', '2022-12-26',\n",
        "    '2023-01-02', '2023-01-16', '2023-02-13', '2023-02-20',\n",
        "    '2023-05-29', '2023-06-19', '2023-07-04', '2023-09-04',\n",
        "    '2023-10-09', '2023-11-10', '2023-11-23', '2023-11-24',\n",
        "    '2023-12-25'\n",
        "]\n",
        "\n",
        "# Convert the holiday dates to a PySpark column\n",
        "holidays_column = F.array(*[F.lit(date) for date in holidays])\n",
        "\n",
        "# Add a 'is_weekday' column, where 1 indicates a weekday and 0 indicates a weekend\n",
        "grouped = grouped.withColumn(\"is_weekday\",\n",
        "                             F.when(dayofweek('date') <= 5, 1).otherwise(0))\n",
        "\n",
        "# Add 'is_holiday' column by checking if 'date' is in the holiday list\n",
        "grouped = grouped.withColumn(\"is_holiday\",\n",
        "                             F.col(\"date\").cast(\"string\").isin(holidays))\n",
        "\n",
        "# Show the final result\n",
        "grouped.show()"
      ]
    },
    {
      "cell_type": "code",
      "execution_count": 15,
      "metadata": {
        "colab": {
          "base_uri": "https://localhost:8080/"
        },
        "id": "jm75-Pp9X8HC",
        "outputId": "4ab07eca-a1c3-4a96-c057-b9cc8b976ca9"
      },
      "outputs": [
        {
          "name": "stdout",
          "output_type": "stream",
          "text": [
            "Number of rows: 472885\n",
            "Number of columns: 6\n"
          ]
        }
      ],
      "source": [
        "num_rows = grouped.count()\n",
        "num_columns = len(grouped.columns)\n",
        "\n",
        "print(f\"Number of rows: {num_rows}\")\n",
        "print(f\"Number of columns: {num_columns}\")"
      ]
    },
    {
      "cell_type": "code",
      "execution_count": 17,
      "metadata": {
        "colab": {
          "base_uri": "https://localhost:8080/"
        },
        "id": "3SauHmghdkiv",
        "outputId": "f3338cfa-9019-40ef-da7f-7f9e230a08a3"
      },
      "outputs": [
        {
          "name": "stdout",
          "output_type": "stream",
          "text": [
            "Mean of ride_count: 20.467306004631148\n"
          ]
        }
      ],
      "source": [
        "from pyspark.sql.functions import avg\n",
        "\n",
        "# Calculate the mean of the 'ride_count' column\n",
        "mean_ride_count = grouped.agg(avg(\"ride_count\")).collect()[0][0]\n",
        "\n",
        "# Print the mean\n",
        "print(f\"Mean of ride_count: {mean_ride_count}\")"
      ]
    },
    {
      "cell_type": "markdown",
      "metadata": {
        "id": "rS3jN1yvHX_E"
      },
      "source": [
        "# Loading Weather Data"
      ]
    },
    {
      "cell_type": "code",
      "execution_count": 18,
      "metadata": {
        "colab": {
          "base_uri": "https://localhost:8080/"
        },
        "id": "k1KFPpW_ebTo",
        "outputId": "dc38ed17-a47e-40dd-bf6a-a8548fa10923"
      },
      "outputs": [
        {
          "name": "stdout",
          "output_type": "stream",
          "text": [
            "+-------+----------+-------+-------+-----+------------+------------+---------+-----+--------+------+----------+-----------+----------+----+---------+--------+---------+-------+----------------+----------+----------+--------------+-----------+-------+----------+-------------------+-------------------+---------+--------------------+--------------------+-----------------+--------------------+\n",
            "|   name|  datetime|tempmax|tempmin| temp|feelslikemax|feelslikemin|feelslike|  dew|humidity|precip|precipprob|precipcover|preciptype|snow|snowdepth|windgust|windspeed|winddir|sealevelpressure|cloudcover|visibility|solarradiation|solarenergy|uvindex|severerisk|            sunrise|             sunset|moonphase|          conditions|         description|             icon|            stations|\n",
            "+-------+----------+-------+-------+-----+------------+------------+---------+-----+--------+------+----------+-----------+----------+----+---------+--------+---------+-------+----------------+----------+----------+--------------+-----------+-------+----------+-------------------+-------------------+---------+--------------------+--------------------+-----------------+--------------------+\n",
            "|chicago|2022-01-01|    5.0|   -1.3|  1.6|         0.8|        -8.5|     -4.3| -1.3|    81.7| 2.289|       100|      41.67| rain,snow| 0.8|      0.3|    56.7|     36.5|   22.3|          1010.1|     100.0|       7.4|           5.0|        0.5|      0|      NULL|2022-01-01 07:18:23|2022-01-01 16:30:14|     0.96|Snow, Rain, Overcast|Cloudy skies thro...|             snow|72534014819,AP878...|\n",
            "|chicago|2022-01-02|   -1.6|   -9.0| -4.7|        -6.3|       -14.0|    -10.6| -8.9|    73.1| 0.792|       100|      20.83| rain,snow| 4.2|      3.4|    42.2|     30.5|  337.1|          1021.5|      66.5|      12.7|          33.1|        2.7|      2|      NULL|2022-01-02 07:18:27|2022-01-02 16:31:07|      0.0|Snow, Rain, Parti...|Partly cloudy thr...|             snow|72534014819,AP878...|\n",
            "|chicago|2022-01-03|   -4.7|  -12.0| -8.2|       -10.5|       -17.9|    -13.9|-14.6|    61.3|   0.0|         0|        0.0|      snow| 1.8|      5.6|    39.6|     20.8|  226.7|          1028.2|      11.3|      16.0|          58.3|        5.0|      3|      NULL|2022-01-03 07:18:28|2022-01-03 16:32:01|     0.03|               Clear|Clear conditions ...|        clear-day|72534014819,KORD,...|\n",
            "|chicago|2022-01-04|    1.9|   -4.8| -1.2|        -3.8|       -10.7|     -6.8| -6.9|    65.3|   0.0|         0|        0.0|      NULL| 0.0|      5.9|    53.2|     31.2|  190.8|          1014.9|      68.3|      16.0|          45.0|        3.7|      2|      NULL|2022-01-04 07:18:28|2022-01-04 16:32:57|     0.06|    Partially cloudy|Partly cloudy thr...|partly-cloudy-day|72534014819,KORD,...|\n",
            "|chicago|2022-01-05|    1.5|  -10.3| -6.8|        -4.3|       -21.3|    -15.7|-12.0|    66.4|   0.0|         0|        0.0|      NULL| 0.0|      5.5|    70.2|     42.2|  255.5|          1007.4|      93.0|       9.9|          40.1|        3.5|      2|      NULL|2022-01-05 07:18:25|2022-01-05 16:33:54|      0.1|            Overcast|Cloudy skies thro...|           cloudy|72534014819,KORD,...|\n",
            "|chicago|2022-01-06|   -9.0|  -14.4|-11.6|       -17.0|       -23.7|    -19.9|-16.6|    66.7|   0.0|         0|        0.0|      NULL| 0.0|      5.2|    38.4|     24.0|  272.8|          1020.0|      41.8|      15.4|          53.2|        4.4|      3|      NULL|2022-01-06 07:18:19|2022-01-06 16:34:53|     0.13|    Partially cloudy|Becoming cloudy i...|partly-cloudy-day|72534014819,KORD,...|\n",
            "|chicago|2022-01-07|   -9.7|  -17.4|-13.3|       -15.4|       -25.7|    -20.3|-18.9|    63.2|   0.0|         0|        0.0|      NULL| 0.0|      4.8|    NULL|     19.4|  252.0|          1027.9|      38.4|      16.0|          61.2|        5.3|      3|      NULL|2022-01-07 07:18:12|2022-01-07 16:35:53|     0.16|    Partially cloudy|Partly cloudy thr...|partly-cloudy-day|72534014819,KORD,...|\n",
            "|chicago|2022-01-08|    1.9|   -9.6| -4.3|        -1.0|       -16.5|    -10.4| -9.2|    69.3| 0.572|       100|      20.83| rain,snow| 0.0|      4.4|    44.6|     27.8|  180.7|          1021.5|      73.1|      12.1|          21.3|        1.8|      1|      NULL|2022-01-08 07:18:02|2022-01-08 16:36:55|      0.2|Snow, Rain, Parti...|Partly cloudy thr...|             rain|72534014819,AP878...|\n",
            "|chicago|2022-01-09|    1.9|  -11.4| -4.0|        -0.8|       -19.2|    -10.2|-10.5|    61.7| 0.232|       100|       4.17| rain,snow| 0.0|      3.6|    52.7|     30.7|  289.7|          1026.8|      44.1|      15.3|          66.7|        5.8|      3|      NULL|2022-01-09 07:17:49|2022-01-09 16:37:58|     0.25|Snow, Rain, Parti...|Clearing in the a...|             rain|72534014819,KORD,...|\n",
            "|chicago|2022-01-10|   -7.8|  -13.3|-10.0|       -14.3|       -19.7|    -16.7|-19.4|    46.9|   0.0|         0|        0.0|      NULL| 0.0|      3.4|    40.7|     24.1|  299.4|          1035.1|      39.6|      15.9|          67.7|        5.9|      3|        10|2022-01-10 07:17:35|2022-01-10 16:39:02|     0.26|    Partially cloudy|Clearing in the a...|partly-cloudy-day|72534014819,KORD,...|\n",
            "|chicago|2022-01-11|    2.7|  -14.2| -6.0|        -2.0|       -19.3|    -11.5|-14.1|    53.2|   0.0|         0|        0.0|      NULL| 0.0|      3.2|    58.6|     35.4|  200.5|          1027.4|      38.6|      16.0|          61.3|        5.2|      3|        10|2022-01-11 07:17:18|2022-01-11 16:40:07|     0.29|    Partially cloudy|Partly cloudy thr...|partly-cloudy-day|72534014819,KORD,...|\n",
            "|chicago|2022-01-12|    5.5|    0.6|  2.9|         3.0|        -3.1|      0.2| -2.4|    68.3|   0.0|         0|        0.0|      NULL| 0.0|      2.2|    48.2|     21.5|  232.6|          1015.9|      89.6|      16.0|          27.4|        2.5|      2|        10|2022-01-12 07:16:58|2022-01-12 16:41:13|     0.33|    Partially cloudy|Partly cloudy thr...|partly-cloudy-day|72534014819,KORD,...|\n",
            "|chicago|2022-01-13|    4.7|   -0.2|  2.8|         3.2|        -2.8|      0.9| -0.9|    77.0|   0.0|         0|        0.0|      NULL| 0.0|      1.3|    31.7|     18.4|   15.4|          1014.5|      95.6|      14.7|          24.9|        2.2|      1|        10|2022-01-13 07:16:37|2022-01-13 16:42:21|     0.36|            Overcast|Cloudy skies thro...|           cloudy|72534014819,KORD,...|\n",
            "|chicago|2022-01-14|    2.8|   -2.0|  0.5|        -1.0|        -8.9|     -5.1| -3.4|    74.9| 0.068|       100|       4.17| rain,snow| 0.5|      1.1|    46.8|     29.3|   40.8|          1022.1|      99.9|      13.7|          12.5|        1.1|      1|        10|2022-01-14 07:16:13|2022-01-14 16:43:29|     0.39|Snow, Rain, Overcast|Cloudy skies thro...|             snow|72534014819,KORD,...|\n",
            "|chicago|2022-01-15|   -2.5|   -6.5| -4.4|        -8.1|       -12.4|    -10.6| -9.2|    69.5| 0.196|       100|       12.5|      snow| 0.3|      1.3|    41.2|     29.8|   59.2|          1028.2|      74.9|      13.6|          38.7|        3.3|      2|        10|2022-01-15 07:15:47|2022-01-15 16:44:38|     0.43|Snow, Partially c...|Partly cloudy thr...|             snow|72534014819,KORD,...|\n",
            "|chicago|2022-01-16|   -1.6|   -9.3| -5.3|        -2.4|       -13.5|     -8.5|-11.4|    63.1| 0.068|       100|       8.33|      snow| 0.0|      1.0|    36.4|     21.6|  298.6|          1015.4|      49.5|      14.7|          56.5|        5.0|      3|        10|2022-01-16 07:15:18|2022-01-16 16:45:49|     0.46|Snow, Partially c...|Becoming cloudy i...|             snow|72534014819,KORD,...|\n",
            "|chicago|2022-01-17|   -1.4|   -4.2| -2.7|        -6.3|       -10.5|     -8.3| -7.7|    68.7|   0.0|         0|        0.0|      snow| 0.4|      0.9|    43.2|     27.1|  302.8|          1010.9|      89.4|      15.6|          22.0|        1.9|      1|        10|2022-01-17 07:14:48|2022-01-17 16:47:00|      0.5|    Partially cloudy|Partly cloudy thr...|partly-cloudy-day|72534014819,KORD,...|\n",
            "|chicago|2022-01-18|    7.1|   -5.9|  0.9|         2.8|       -10.1|     -3.6| -4.2|    69.5|   0.0|         0|        0.0|      NULL| 0.0|      0.8|    54.1|     34.0|  200.8|          1011.7|      75.0|      15.8|          55.4|        4.5|      2|        10|2022-01-18 07:14:15|2022-01-18 16:48:11|     0.53|    Partially cloudy|Partly cloudy thr...|partly-cloudy-day|72534014819,KORD,...|\n",
            "|chicago|2022-01-19|    5.6|  -10.5| -3.9|         1.2|       -18.6|    -10.7|-10.7|    59.4|   0.0|         0|        0.0|      NULL| 0.0|      0.4|    46.3|     28.1|  299.8|          1019.1|      60.5|      16.0|          40.8|        3.6|      2|        10|2022-01-19 07:13:40|2022-01-19 16:49:24|     0.56|    Partially cloudy|Partly cloudy thr...|partly-cloudy-day|72534014819,KORD,...|\n",
            "|chicago|2022-01-20|   -6.3|  -13.2|-10.2|       -12.0|       -21.7|    -17.3|-18.3|    51.9|   0.0|         0|        0.0|      NULL| 0.0|      0.2|    39.6|     24.2|  339.0|          1035.9|      25.7|      16.0|          84.1|        7.3|      5|        10|2022-01-20 07:13:03|2022-01-20 16:50:37|      0.6|    Partially cloudy|Partly cloudy thr...|partly-cloudy-day|72534014819,KORD,...|\n",
            "+-------+----------+-------+-------+-----+------------+------------+---------+-----+--------+------+----------+-----------+----------+----+---------+--------+---------+-------+----------------+----------+----------+--------------+-----------+-------+----------+-------------------+-------------------+---------+--------------------+--------------------+-----------------+--------------------+\n",
            "only showing top 20 rows\n",
            "\n"
          ]
        }
      ],
      "source": [
        "weather_data1 = spark.read.csv(\"./weather_2022_2023.csv\", header=True, inferSchema=True)\n",
        "weather_data2 = spark.read.csv(\"./weather_2023_2024.csv\", header=True, inferSchema=True)\n",
        "\n",
        "# Concatenate the DataFrames\n",
        "weather_data = weather_data1.union(weather_data2)\n",
        "\n",
        "# Show the first few rows of the concatenated DataFrame\n",
        "weather_data.show()"
      ]
    },
    {
      "cell_type": "code",
      "execution_count": 19,
      "metadata": {
        "colab": {
          "base_uri": "https://localhost:8080/"
        },
        "id": "xocUZoQ-e53H",
        "outputId": "d9b8a586-0ba6-435d-c8b6-bb70db86cd3f"
      },
      "outputs": [
        {
          "name": "stdout",
          "output_type": "stream",
          "text": [
            "+----+--------+-------+-------+----+------------+------------+---------+---+--------+------+----------+-----------+----------+----+---------+--------+---------+-------+----------------+----------+----------+--------------+-----------+-------+----------+-------+------+---------+----------+-----------+----+--------+\n",
            "|name|datetime|tempmax|tempmin|temp|feelslikemax|feelslikemin|feelslike|dew|humidity|precip|precipprob|precipcover|preciptype|snow|snowdepth|windgust|windspeed|winddir|sealevelpressure|cloudcover|visibility|solarradiation|solarenergy|uvindex|severerisk|sunrise|sunset|moonphase|conditions|description|icon|stations|\n",
            "+----+--------+-------+-------+----+------------+------------+---------+---+--------+------+----------+-----------+----------+----+---------+--------+---------+-------+----------------+----------+----------+--------------+-----------+-------+----------+-------+------+---------+----------+-----------+----+--------+\n",
            "|   0|       0|      0|      0|   0|           0|           0|        0|  0|       0|     0|         0|          0|       424|   0|        0|       1|        0|      0|               0|         0|         0|             0|          0|      0|         9|      0|     0|        0|         0|          0|   0|       0|\n",
            "+----+--------+-------+-------+----+------------+------------+---------+---+--------+------+----------+-----------+----------+----+---------+--------+---------+-------+----------------+----------+----------+--------------+-----------+-------+----------+-------+------+---------+----------+-----------+----+--------+\n",
            "\n"
          ]
        }
      ],
      "source": [
        "null_counts = weather_data.select([sum(col(c).isNull().cast(\"int\")).alias(c) for c in weather_data.columns])\n",
        "\n",
        "# Show the null counts for each column\n",
        "null_counts.show()"
      ]
    },
    {
      "cell_type": "code",
      "execution_count": 20,
      "metadata": {
        "colab": {
          "base_uri": "https://localhost:8080/"
        },
        "id": "lXQA5E3jfIEX",
        "outputId": "ec3f6f61-b9c3-4b36-b689-74710d174493"
      },
      "outputs": [
        {
          "name": "stdout",
          "output_type": "stream",
          "text": [
            "+-------+----------+-------+-------+-----+------------+------------+---------+-----+--------+------+----------+-----------+----------+----+---------+--------+---------+-------+----------------+----------+----------+--------------+-----------+-------+----------+-------------------+-------------------+---------+--------------------+--------------------+-----------------+--------------------+\n",
            "|   name|  datetime|tempmax|tempmin| temp|feelslikemax|feelslikemin|feelslike|  dew|humidity|precip|precipprob|precipcover|preciptype|snow|snowdepth|windgust|windspeed|winddir|sealevelpressure|cloudcover|visibility|solarradiation|solarenergy|uvindex|severerisk|            sunrise|             sunset|moonphase|          conditions|         description|             icon|            stations|\n",
            "+-------+----------+-------+-------+-----+------------+------------+---------+-----+--------+------+----------+-----------+----------+----+---------+--------+---------+-------+----------------+----------+----------+--------------+-----------+-------+----------+-------------------+-------------------+---------+--------------------+--------------------+-----------------+--------------------+\n",
            "|chicago|2022-01-01|    5.0|   -1.3|  1.6|         0.8|        -8.5|     -4.3| -1.3|    81.7| 2.289|       100|      41.67| rain,snow| 0.8|      0.3|    56.7|     36.5|   22.3|          1010.1|     100.0|       7.4|           5.0|        0.5|      0|      NULL|2022-01-01 07:18:23|2022-01-01 16:30:14|     0.96|Snow, Rain, Overcast|Cloudy skies thro...|             snow|72534014819,AP878...|\n",
            "|chicago|2022-01-02|   -1.6|   -9.0| -4.7|        -6.3|       -14.0|    -10.6| -8.9|    73.1| 0.792|       100|      20.83| rain,snow| 4.2|      3.4|    42.2|     30.5|  337.1|          1021.5|      66.5|      12.7|          33.1|        2.7|      2|      NULL|2022-01-02 07:18:27|2022-01-02 16:31:07|      0.0|Snow, Rain, Parti...|Partly cloudy thr...|             snow|72534014819,AP878...|\n",
            "|chicago|2022-01-03|   -4.7|  -12.0| -8.2|       -10.5|       -17.9|    -13.9|-14.6|    61.3|   0.0|         0|        0.0|      snow| 1.8|      5.6|    39.6|     20.8|  226.7|          1028.2|      11.3|      16.0|          58.3|        5.0|      3|      NULL|2022-01-03 07:18:28|2022-01-03 16:32:01|     0.03|               Clear|Clear conditions ...|        clear-day|72534014819,KORD,...|\n",
            "|chicago|2022-01-04|    1.9|   -4.8| -1.2|        -3.8|       -10.7|     -6.8| -6.9|    65.3|   0.0|         0|        0.0|      NULL| 0.0|      5.9|    53.2|     31.2|  190.8|          1014.9|      68.3|      16.0|          45.0|        3.7|      2|      NULL|2022-01-04 07:18:28|2022-01-04 16:32:57|     0.06|    Partially cloudy|Partly cloudy thr...|partly-cloudy-day|72534014819,KORD,...|\n",
            "|chicago|2022-01-05|    1.5|  -10.3| -6.8|        -4.3|       -21.3|    -15.7|-12.0|    66.4|   0.0|         0|        0.0|      NULL| 0.0|      5.5|    70.2|     42.2|  255.5|          1007.4|      93.0|       9.9|          40.1|        3.5|      2|      NULL|2022-01-05 07:18:25|2022-01-05 16:33:54|      0.1|            Overcast|Cloudy skies thro...|           cloudy|72534014819,KORD,...|\n",
            "|chicago|2022-01-06|   -9.0|  -14.4|-11.6|       -17.0|       -23.7|    -19.9|-16.6|    66.7|   0.0|         0|        0.0|      NULL| 0.0|      5.2|    38.4|     24.0|  272.8|          1020.0|      41.8|      15.4|          53.2|        4.4|      3|      NULL|2022-01-06 07:18:19|2022-01-06 16:34:53|     0.13|    Partially cloudy|Becoming cloudy i...|partly-cloudy-day|72534014819,KORD,...|\n",
            "|chicago|2022-01-07|   -9.7|  -17.4|-13.3|       -15.4|       -25.7|    -20.3|-18.9|    63.2|   0.0|         0|        0.0|      NULL| 0.0|      4.8|    NULL|     19.4|  252.0|          1027.9|      38.4|      16.0|          61.2|        5.3|      3|      NULL|2022-01-07 07:18:12|2022-01-07 16:35:53|     0.16|    Partially cloudy|Partly cloudy thr...|partly-cloudy-day|72534014819,KORD,...|\n",
            "|chicago|2022-01-08|    1.9|   -9.6| -4.3|        -1.0|       -16.5|    -10.4| -9.2|    69.3| 0.572|       100|      20.83| rain,snow| 0.0|      4.4|    44.6|     27.8|  180.7|          1021.5|      73.1|      12.1|          21.3|        1.8|      1|      NULL|2022-01-08 07:18:02|2022-01-08 16:36:55|      0.2|Snow, Rain, Parti...|Partly cloudy thr...|             rain|72534014819,AP878...|\n",
            "|chicago|2022-01-09|    1.9|  -11.4| -4.0|        -0.8|       -19.2|    -10.2|-10.5|    61.7| 0.232|       100|       4.17| rain,snow| 0.0|      3.6|    52.7|     30.7|  289.7|          1026.8|      44.1|      15.3|          66.7|        5.8|      3|      NULL|2022-01-09 07:17:49|2022-01-09 16:37:58|     0.25|Snow, Rain, Parti...|Clearing in the a...|             rain|72534014819,KORD,...|\n",
            "|chicago|2022-01-10|   -7.8|  -13.3|-10.0|       -14.3|       -19.7|    -16.7|-19.4|    46.9|   0.0|         0|        0.0|      NULL| 0.0|      3.4|    40.7|     24.1|  299.4|          1035.1|      39.6|      15.9|          67.7|        5.9|      3|        10|2022-01-10 07:17:35|2022-01-10 16:39:02|     0.26|    Partially cloudy|Clearing in the a...|partly-cloudy-day|72534014819,KORD,...|\n",
            "|chicago|2022-01-11|    2.7|  -14.2| -6.0|        -2.0|       -19.3|    -11.5|-14.1|    53.2|   0.0|         0|        0.0|      NULL| 0.0|      3.2|    58.6|     35.4|  200.5|          1027.4|      38.6|      16.0|          61.3|        5.2|      3|        10|2022-01-11 07:17:18|2022-01-11 16:40:07|     0.29|    Partially cloudy|Partly cloudy thr...|partly-cloudy-day|72534014819,KORD,...|\n",
            "|chicago|2022-01-12|    5.5|    0.6|  2.9|         3.0|        -3.1|      0.2| -2.4|    68.3|   0.0|         0|        0.0|      NULL| 0.0|      2.2|    48.2|     21.5|  232.6|          1015.9|      89.6|      16.0|          27.4|        2.5|      2|        10|2022-01-12 07:16:58|2022-01-12 16:41:13|     0.33|    Partially cloudy|Partly cloudy thr...|partly-cloudy-day|72534014819,KORD,...|\n",
            "|chicago|2022-01-13|    4.7|   -0.2|  2.8|         3.2|        -2.8|      0.9| -0.9|    77.0|   0.0|         0|        0.0|      NULL| 0.0|      1.3|    31.7|     18.4|   15.4|          1014.5|      95.6|      14.7|          24.9|        2.2|      1|        10|2022-01-13 07:16:37|2022-01-13 16:42:21|     0.36|            Overcast|Cloudy skies thro...|           cloudy|72534014819,KORD,...|\n",
            "|chicago|2022-01-14|    2.8|   -2.0|  0.5|        -1.0|        -8.9|     -5.1| -3.4|    74.9| 0.068|       100|       4.17| rain,snow| 0.5|      1.1|    46.8|     29.3|   40.8|          1022.1|      99.9|      13.7|          12.5|        1.1|      1|        10|2022-01-14 07:16:13|2022-01-14 16:43:29|     0.39|Snow, Rain, Overcast|Cloudy skies thro...|             snow|72534014819,KORD,...|\n",
            "|chicago|2022-01-15|   -2.5|   -6.5| -4.4|        -8.1|       -12.4|    -10.6| -9.2|    69.5| 0.196|       100|       12.5|      snow| 0.3|      1.3|    41.2|     29.8|   59.2|          1028.2|      74.9|      13.6|          38.7|        3.3|      2|        10|2022-01-15 07:15:47|2022-01-15 16:44:38|     0.43|Snow, Partially c...|Partly cloudy thr...|             snow|72534014819,KORD,...|\n",
            "|chicago|2022-01-16|   -1.6|   -9.3| -5.3|        -2.4|       -13.5|     -8.5|-11.4|    63.1| 0.068|       100|       8.33|      snow| 0.0|      1.0|    36.4|     21.6|  298.6|          1015.4|      49.5|      14.7|          56.5|        5.0|      3|        10|2022-01-16 07:15:18|2022-01-16 16:45:49|     0.46|Snow, Partially c...|Becoming cloudy i...|             snow|72534014819,KORD,...|\n",
            "|chicago|2022-01-17|   -1.4|   -4.2| -2.7|        -6.3|       -10.5|     -8.3| -7.7|    68.7|   0.0|         0|        0.0|      snow| 0.4|      0.9|    43.2|     27.1|  302.8|          1010.9|      89.4|      15.6|          22.0|        1.9|      1|        10|2022-01-17 07:14:48|2022-01-17 16:47:00|      0.5|    Partially cloudy|Partly cloudy thr...|partly-cloudy-day|72534014819,KORD,...|\n",
            "|chicago|2022-01-18|    7.1|   -5.9|  0.9|         2.8|       -10.1|     -3.6| -4.2|    69.5|   0.0|         0|        0.0|      NULL| 0.0|      0.8|    54.1|     34.0|  200.8|          1011.7|      75.0|      15.8|          55.4|        4.5|      2|        10|2022-01-18 07:14:15|2022-01-18 16:48:11|     0.53|    Partially cloudy|Partly cloudy thr...|partly-cloudy-day|72534014819,KORD,...|\n",
            "|chicago|2022-01-19|    5.6|  -10.5| -3.9|         1.2|       -18.6|    -10.7|-10.7|    59.4|   0.0|         0|        0.0|      NULL| 0.0|      0.4|    46.3|     28.1|  299.8|          1019.1|      60.5|      16.0|          40.8|        3.6|      2|        10|2022-01-19 07:13:40|2022-01-19 16:49:24|     0.56|    Partially cloudy|Partly cloudy thr...|partly-cloudy-day|72534014819,KORD,...|\n",
            "|chicago|2022-01-20|   -6.3|  -13.2|-10.2|       -12.0|       -21.7|    -17.3|-18.3|    51.9|   0.0|         0|        0.0|      NULL| 0.0|      0.2|    39.6|     24.2|  339.0|          1035.9|      25.7|      16.0|          84.1|        7.3|      5|        10|2022-01-20 07:13:03|2022-01-20 16:50:37|      0.6|    Partially cloudy|Partly cloudy thr...|partly-cloudy-day|72534014819,KORD,...|\n",
            "+-------+----------+-------+-------+-----+------------+------------+---------+-----+--------+------+----------+-----------+----------+----+---------+--------+---------+-------+----------------+----------+----------+--------------+-----------+-------+----------+-------------------+-------------------+---------+--------------------+--------------------+-----------------+--------------------+\n",
            "only showing top 20 rows\n",
            "\n"
          ]
        }
      ],
      "source": [
        "weather_data = weather_data.withColumn('datetime', to_date(weather_data['datetime']))\n",
        "\n",
        "# Show the transformed data\n",
        "weather_data.show()"
      ]
    },
    {
      "cell_type": "markdown",
      "metadata": {
        "id": "F-_cpiAEHfnD"
      },
      "source": [
        "# Merging the weather data and the bike ride count data."
      ]
    },
    {
      "cell_type": "code",
      "execution_count": 21,
      "metadata": {
        "colab": {
          "base_uri": "https://localhost:8080/"
        },
        "id": "9xrpbkHMfXF7",
        "outputId": "8330d37c-63eb-47af-d198-bc5bdbb3abbb"
      },
      "outputs": [
        {
          "name": "stdout",
          "output_type": "stream",
          "text": [
            "+------------------+------------------+----------+----------+----------+----------+-------+----------+-------+-------+----+------------+------------+---------+-----+--------+------+----------+-----------+----------+----+---------+--------+---------+-------+----------------+----------+----------+--------------+-----------+-------+----------+-------------------+-------------------+---------+--------------------+--------------------+-----------------+--------------------+\n",
            "|     mean_latitude|    mean_longitude|      date|ride_count|is_weekday|is_holiday|   name|  datetime|tempmax|tempmin|temp|feelslikemax|feelslikemin|feelslike|  dew|humidity|precip|precipprob|precipcover|preciptype|snow|snowdepth|windgust|windspeed|winddir|sealevelpressure|cloudcover|visibility|solarradiation|solarenergy|uvindex|severerisk|            sunrise|             sunset|moonphase|          conditions|         description|             icon|            stations|\n",
            "+------------------+------------------+----------+----------+----------+----------+-------+----------+-------+-------+----+------------+------------+---------+-----+--------+------+----------+-----------+----------+----+---------+--------+---------+-------+----------------+----------+----------+--------------+-----------+-------+----------+-------------------+-------------------+---------+--------------------+--------------------+-----------------+--------------------+\n",
            "|41.919944054546505|-87.64884828432706|2022-02-11|        18|         0|      true|chicago|2022-02-11|    6.8|   -0.9| 3.0|         2.7|        -6.7|     -2.1| -1.0|    75.0| 3.027|       100|      16.67| rain,snow| 0.0|      2.6|    66.7|     35.2|  250.8|          1003.8|      95.5|      14.4|          55.9|        4.9|      5|        10|2022-02-11 06:51:27|2022-02-11 17:18:41|     0.34|Snow, Rain, Overcast|Cloudy skies thro...|             rain|72534014819,KORD,...|\n",
            "| 41.94304117507918|-87.68730012686402|2022-04-06|         4|         1|     false|chicago|2022-04-06|   14.1|    8.3|11.1|        14.1|         5.0|     10.2|  5.3|    69.0|15.091|       100|      33.33|      rain| 0.0|      0.0|    63.2|     36.4|  232.0|           999.7|      94.9|      13.8|         132.0|       11.3|      8|        10|2022-04-06 06:24:44|2022-04-06 19:21:47|     0.18|      Rain, Overcast|Cloudy skies thro...|             rain|72534014819,KORD,...|\n",
            "|41.878124090182766|-87.64404281296741|2022-02-23|        10|         1|     false|chicago|2022-02-23|   -3.6|   -8.3|-5.6|        -9.5|       -16.4|    -12.0|-11.7|    62.3|   0.0|         0|        0.0|      snow| 0.0|      0.0|    43.9|     26.1|  334.9|          1031.7|      80.7|      14.8|          98.1|        8.4|      6|        10|2022-02-23 06:34:38|2022-02-23 17:33:43|     0.75|    Partially cloudy|Partly cloudy thr...|partly-cloudy-day|72534014819,KORD,...|\n",
            "|41.878124090182766|-87.64404281296741|2022-04-01|        30|         0|     false|chicago|2022-04-01|    7.1|    0.5| 3.0|         5.8|        -4.5|     -0.6| -3.6|    63.2| 0.092|       100|       4.17| rain,snow| 0.0|      0.0|    36.4|     21.2|  325.8|          1016.3|      65.5|      15.0|         179.2|       15.4|      9|        10|2022-04-01 06:33:09|2022-04-01 19:16:15|      0.0|Snow, Rain, Parti...|Partly cloudy thr...|             rain|72534014819,KORD,...|\n",
            "| 41.87593901364749|-87.63068336039059|2022-03-30|        11|         1|     false|chicago|2022-03-30|   16.5|    6.9|12.3|        16.5|         3.2|     11.3|  7.1|    72.2|22.331|       100|      54.17|      rain| 0.0|      0.0|    49.5|     29.9|  173.6|           997.0|      97.5|      11.9|          22.2|        1.8|      1|        10|2022-03-30 06:36:33|2022-03-30 19:14:03|     0.94|      Rain, Overcast|Cloudy skies thro...|             rain|72534014819,AP878...|\n",
            "| 41.90316994298406|-87.63444388368865|2022-04-13|        44|         1|     false|chicago|2022-04-13|   21.7|    7.8|17.9|        21.7|         3.5|     17.5| 14.0|    78.3|12.003|       100|      41.67|      rain| 0.0|      0.0|    79.9|     40.9|  212.1|          1000.4|      96.8|      13.7|          46.9|        4.1|      4|        30|2022-04-13 06:13:17|2022-04-13 19:29:30|      0.4|      Rain, Overcast|Cloudy skies thro...|             rain|72534014819,C8740...|\n",
            "|41.837809866599706| -87.6511515888454|2022-01-15|         2|         0|     false|chicago|2022-01-15|   -2.5|   -6.5|-4.4|        -8.1|       -12.4|    -10.6| -9.2|    69.5| 0.196|       100|       12.5|      snow| 0.3|      1.3|    41.2|     29.8|   59.2|          1028.2|      74.9|      13.6|          38.7|        3.3|      2|        10|2022-01-15 07:15:47|2022-01-15 16:44:38|     0.43|Snow, Partially c...|Partly cloudy thr...|             snow|72534014819,KORD,...|\n",
            "|  41.8984169131258|-87.68658986163125|2022-04-08|        10|         0|     false|chicago|2022-04-08|    5.2|    1.8| 3.8|         2.0|        -1.9|      0.7|  1.1|    83.0| 5.219|       100|      58.33| rain,snow| 0.0|      0.0|    35.3|     19.6|  305.0|          1004.7|      96.8|      12.5|          43.4|        3.7|      2|        10|2022-04-08 06:21:25|2022-04-08 19:23:59|     0.24|Snow, Rain, Overcast|Cloudy skies thro...|             rain|72534014819,KORD,...|\n",
            "|41.902345765021614|-87.62775505783299|2022-04-27|        30|         1|     false|chicago|2022-04-27|    5.4|    2.0| 3.7|         2.7|        -1.9|      0.2| -3.6|    58.9|   0.0|         0|        0.0|      NULL| 0.0|      0.0|    36.7|     26.8|   43.2|          1027.5|      70.9|      16.0|         110.0|        9.4|      5|        10|2022-04-27 05:52:07|2022-04-27 19:44:56|     0.89|    Partially cloudy|Partly cloudy thr...|partly-cloudy-day|72534014819,AP878...|\n",
            "| 41.83882995832776|-87.62185843453766|2022-02-08|         4|         1|     false|chicago|2022-02-08|    4.1|   -7.5|-1.6|         0.2|       -12.9|     -6.5| -7.4|    64.8|   0.0|         0|        0.0|      NULL| 0.0|      6.6|    42.5|     22.5|  193.8|          1014.5|      70.8|      15.7|         117.6|       10.3|      6|        10|2022-02-08 06:55:11|2022-02-08 17:14:50|     0.25|    Partially cloudy|Partly cloudy thr...|partly-cloudy-day|72534014819,KORD,...|\n",
            "|41.902910255245025|-87.63772327056198|2022-02-26|         2|         0|     false|chicago|2022-02-26|    0.3|   -9.4|-4.2|        -4.6|       -15.1|     -9.6| -9.9|    65.2|   0.0|         0|        0.0|      NULL| 0.0|      2.3|    55.4|     24.5|  238.7|          1031.9|       7.7|      16.0|         150.3|       13.0|      7|        10|2022-02-26 06:30:03|2022-02-26 17:37:22|     0.86|               Clear|Clear conditions ...|        clear-day|72534014819,KORD,...|\n",
            "| 41.88019801868493|-87.63535827011283|2022-02-03|        11|         1|     false|chicago|2022-02-03|   -3.6|   -7.3|-5.1|       -10.5|       -15.9|    -12.9|-10.3|    66.9|   0.0|         0|        0.0|      snow| 1.3|      9.8|    53.9|     36.1|   16.1|          1030.6|     100.0|      15.4|           4.8|        0.1|      0|        10|2022-02-03 07:00:55|2022-02-03 17:08:24|     0.08|            Overcast|Cloudy skies thro...|           cloudy|72534014819,AP878...|\n",
            "|41.838456386738095| -87.6353911118366|2022-03-31|         5|         1|     false|chicago|2022-03-31|   14.2|    2.0| 4.7|        14.2|        -1.4|      1.2|  1.9|    82.2|11.799|       100|       50.0| rain,snow| 0.0|      0.0|    39.6|     23.6|  291.2|           996.5|     100.0|      11.9|          42.3|        3.6|      3|        10|2022-03-31 06:34:51|2022-03-31 19:15:09|     0.98|Snow, Rain, Overcast|Cloudy skies thro...|             rain|72534014819,AP878...|\n",
            "|41.950708050482085|-87.78874879370777|2022-01-18|         1|         1|     false|chicago|2022-01-18|    7.1|   -5.9| 0.9|         2.8|       -10.1|     -3.6| -4.2|    69.5|   0.0|         0|        0.0|      NULL| 0.0|      0.8|    54.1|     34.0|  200.8|          1011.7|      75.0|      15.8|          55.4|        4.5|      2|        10|2022-01-18 07:14:15|2022-01-18 16:48:11|     0.53|    Partially cloudy|Partly cloudy thr...|partly-cloudy-day|72534014819,KORD,...|\n",
            "|41.930451436257904|-87.78041486306338|2022-01-12|         1|         1|     false|chicago|2022-01-12|    5.5|    0.6| 2.9|         3.0|        -3.1|      0.2| -2.4|    68.3|   0.0|         0|        0.0|      NULL| 0.0|      2.2|    48.2|     21.5|  232.6|          1015.9|      89.6|      16.0|          27.4|        2.5|      2|        10|2022-01-12 07:16:58|2022-01-12 16:41:13|     0.33|    Partially cloudy|Partly cloudy thr...|partly-cloudy-day|72534014819,KORD,...|\n",
            "| 41.78835426044172|-87.71022468035957|2022-03-23|         1|         1|     false|chicago|2022-03-23|   15.0|    9.1|11.7|        15.0|         5.9|     11.1|  9.6|    87.4|14.345|       100|      54.17|      rain| 0.0|      0.0|    53.6|     26.3|  180.5|           998.4|      99.7|       9.1|          23.0|        2.0|      2|        10|2022-03-23 06:48:31|2022-03-23 19:06:16|     0.69|      Rain, Overcast|Cloudy skies thro...|             rain|72534014819,KORD,...|\n",
            "| 41.96162147062023|-87.65464011191898|2022-03-13|        27|         1|     false|chicago|2022-03-13|   11.2|   -5.8| 3.7|        11.2|       -12.3|      0.1| -5.8|    50.2|   0.0|         0|        0.0|      NULL| 0.0|      0.0|    51.1|     28.7|  231.6|          1015.5|      45.7|      15.9|         169.2|       13.9|      7|        10|2022-03-13 07:05:35|2022-03-13 18:54:59|     0.35|    Partially cloudy|Clearing in the a...|partly-cloudy-day|72534014819,KORD,...|\n",
            "| 41.97158252647566|-87.65017304634853|2022-04-20|         6|         1|     false|chicago|2022-04-20|   12.1|    5.9| 9.0|        12.1|         2.8|      7.5|  1.8|    60.8| 4.121|       100|      20.83|      rain| 0.0|      0.0|    56.4|     30.0|  155.0|          1019.5|      98.3|      15.1|          38.8|        3.2|      1|        10|2022-04-20 06:02:21|2022-04-20 19:37:14|     0.64|      Rain, Overcast|Cloudy skies thro...|             rain|72534014819,AP878...|\n",
            "| 41.89482037237962|-87.63233210929742|2022-04-20|        21|         1|     false|chicago|2022-04-20|   12.1|    5.9| 9.0|        12.1|         2.8|      7.5|  1.8|    60.8| 4.121|       100|      20.83|      rain| 0.0|      0.0|    56.4|     30.0|  155.0|          1019.5|      98.3|      15.1|          38.8|        3.2|      1|        10|2022-04-20 06:02:21|2022-04-20 19:37:14|     0.64|      Rain, Overcast|Cloudy skies thro...|             rain|72534014819,AP878...|\n",
            "| 41.95237723034713|-87.65375465780588|2022-01-16|         8|         1|     false|chicago|2022-01-16|   -1.6|   -9.3|-5.3|        -2.4|       -13.5|     -8.5|-11.4|    63.1| 0.068|       100|       8.33|      snow| 0.0|      1.0|    36.4|     21.6|  298.6|          1015.4|      49.5|      14.7|          56.5|        5.0|      3|        10|2022-01-16 07:15:18|2022-01-16 16:45:49|     0.46|Snow, Partially c...|Becoming cloudy i...|             snow|72534014819,KORD,...|\n",
            "+------------------+------------------+----------+----------+----------+----------+-------+----------+-------+-------+----+------------+------------+---------+-----+--------+------+----------+-----------+----------+----+---------+--------+---------+-------+----------------+----------+----------+--------------+-----------+-------+----------+-------------------+-------------------+---------+--------------------+--------------------+-----------------+--------------------+\n",
            "only showing top 20 rows\n",
            "\n",
            "Merged DataFrame shape: (472885, 39)\n"
          ]
        }
      ],
      "source": [
        "merged_df = grouped.join(weather_data, grouped['date'] == weather_data['datetime'], how='inner')\n",
        "\n",
        "# Get the shape of the resulting DataFrame\n",
        "merged_df_count = merged_df.count(), len(merged_df.columns)\n",
        "\n",
        "# Show the merged DataFrame\n",
        "merged_df.show()\n",
        "\n",
        "# Print the shape\n",
        "print(f'Merged DataFrame shape: {merged_df_count}')"
      ]
    },
    {
      "cell_type": "code",
      "execution_count": 22,
      "metadata": {
        "colab": {
          "base_uri": "https://localhost:8080/"
        },
        "id": "TjnOcWIqfsV9",
        "outputId": "0604fb98-8c1b-41e0-9492-c06ac825efa7"
      },
      "outputs": [
        {
          "name": "stdout",
          "output_type": "stream",
          "text": [
            "+-------------+--------------+----+----------+----------+----------+----+--------+-------+-------+----+------------+------------+---------+---+--------+------+----------+-----------+----------+----+---------+--------+---------+-------+----------------+----------+----------+--------------+-----------+-------+----------+-------+------+---------+----------+-----------+----+--------+\n",
            "|mean_latitude|mean_longitude|date|ride_count|is_weekday|is_holiday|name|datetime|tempmax|tempmin|temp|feelslikemax|feelslikemin|feelslike|dew|humidity|precip|precipprob|precipcover|preciptype|snow|snowdepth|windgust|windspeed|winddir|sealevelpressure|cloudcover|visibility|solarradiation|solarenergy|uvindex|severerisk|sunrise|sunset|moonphase|conditions|description|icon|stations|\n",
            "+-------------+--------------+----+----------+----------+----------+----+--------+-------+-------+----+------------+------------+---------+---+--------+------+----------+-----------+----------+----+---------+--------+---------+-------+----------------+----------+----------+--------------+-----------+-------+----------+-------+------+---------+----------+-----------+----+--------+\n",
            "|            0|             0|   0|         0|         0|         0|   0|       0|      0|      0|   0|           0|           0|        0|  0|       0|     0|         0|          0|    283781|   0|        0|     413|        0|      0|               0|         0|         0|             0|          0|      0|      3866|      0|     0|        0|         0|          0|   0|       0|\n",
            "+-------------+--------------+----+----------+----------+----------+----+--------+-------+-------+----+------------+------------+---------+---+--------+------+----------+-----------+----------+----+---------+--------+---------+-------+----------------+----------+----------+--------------+-----------+-------+----------+-------+------+---------+----------+-----------+----+--------+\n",
            "\n"
          ]
        }
      ],
      "source": [
        "null_counts = merged_df.select([count(when(col(c).isNull(), c)).alias(c) for c in merged_df.columns])\n",
        "\n",
        "# Show the null counts\n",
        "null_counts.show()"
      ]
    },
    {
      "cell_type": "code",
      "execution_count": null,
      "metadata": {
        "id": "ESejQNHBHzKs"
      },
      "outputs": [],
      "source": []
    },
    {
      "cell_type": "markdown",
      "metadata": {
        "id": "m9eMuMbZH0y3"
      },
      "source": [
        "# Filling the Null Values in the dataset with mean of the respective columns."
      ]
    },
    {
      "cell_type": "code",
      "execution_count": 23,
      "metadata": {
        "colab": {
          "base_uri": "https://localhost:8080/"
        },
        "id": "tAQY1a2jf0QS",
        "outputId": "16342707-7850-4ada-b896-43857411074d"
      },
      "outputs": [
        {
          "name": "stdout",
          "output_type": "stream",
          "text": [
            "+-------------+--------------+----+----------+----------+----------+----+--------+-------+-------+----+------------+------------+---------+---+--------+------+----------+-----------+----------+----+---------+--------+---------+-------+----------------+----------+----------+--------------+-----------+-------+----------+-------+------+---------+----------+-----------+----+--------+\n",
            "|mean_latitude|mean_longitude|date|ride_count|is_weekday|is_holiday|name|datetime|tempmax|tempmin|temp|feelslikemax|feelslikemin|feelslike|dew|humidity|precip|precipprob|precipcover|preciptype|snow|snowdepth|windgust|windspeed|winddir|sealevelpressure|cloudcover|visibility|solarradiation|solarenergy|uvindex|severerisk|sunrise|sunset|moonphase|conditions|description|icon|stations|\n",
            "+-------------+--------------+----+----------+----------+----------+----+--------+-------+-------+----+------------+------------+---------+---+--------+------+----------+-----------+----------+----+---------+--------+---------+-------+----------------+----------+----------+--------------+-----------+-------+----------+-------+------+---------+----------+-----------+----+--------+\n",
            "|            0|             0|   0|         0|         0|         0|   0|       0|      0|      0|   0|           0|           0|        0|  0|       0|     0|         0|          0|    283781|   0|        0|       0|        0|      0|               0|         0|         0|             0|          0|      0|         0|      0|     0|        0|         0|          0|   0|       0|\n",
            "+-------------+--------------+----+----------+----------+----------+----+--------+-------+-------+----+------------+------------+---------+---+--------+------+----------+-----------+----------+----+---------+--------+---------+-------+----------------+----------+----------+--------------+-----------+-------+----------+-------+------+---------+----------+-----------+----+--------+\n",
            "\n"
          ]
        }
      ],
      "source": [
        "severerisk_mean = merged_df.select(F.mean('severerisk')).collect()[0][0]\n",
        "windgust_mean = merged_df.select(F.mean('windgust')).collect()[0][0]\n",
        "\n",
        "# Fill the null values with the respective means\n",
        "merged_df = merged_df.fillna({'severerisk': severerisk_mean, 'windgust': windgust_mean})\n",
        "\n",
        "# To check if there are still any null values in the DataFrame\n",
        "null_counts = merged_df.select([F.count(F.when(F.col(c).isNull(), c)).alias(c) for c in merged_df.columns])\n",
        "\n",
        "# Show the result\n",
        "null_counts.show()"
      ]
    },
    {
      "cell_type": "code",
      "execution_count": 24,
      "metadata": {
        "colab": {
          "base_uri": "https://localhost:8080/"
        },
        "id": "VFscltKCgOYu",
        "outputId": "9f402c76-5ace-4e4d-e19f-9fc79a87baf5"
      },
      "outputs": [
        {
          "name": "stdout",
          "output_type": "stream",
          "text": [
            "root\n",
            " |-- mean_latitude: double (nullable = true)\n",
            " |-- mean_longitude: double (nullable = true)\n",
            " |-- date: date (nullable = true)\n",
            " |-- ride_count: long (nullable = false)\n",
            " |-- is_weekday: integer (nullable = false)\n",
            " |-- is_holiday: boolean (nullable = true)\n",
            " |-- name: string (nullable = true)\n",
            " |-- datetime: date (nullable = true)\n",
            " |-- tempmax: double (nullable = true)\n",
            " |-- tempmin: double (nullable = true)\n",
            " |-- temp: double (nullable = true)\n",
            " |-- feelslikemax: double (nullable = true)\n",
            " |-- feelslikemin: double (nullable = true)\n",
            " |-- feelslike: double (nullable = true)\n",
            " |-- dew: double (nullable = true)\n",
            " |-- humidity: double (nullable = true)\n",
            " |-- precip: double (nullable = true)\n",
            " |-- precipprob: integer (nullable = true)\n",
            " |-- precipcover: double (nullable = true)\n",
            " |-- preciptype: string (nullable = true)\n",
            " |-- snow: double (nullable = true)\n",
            " |-- snowdepth: double (nullable = true)\n",
            " |-- windgust: double (nullable = false)\n",
            " |-- windspeed: double (nullable = true)\n",
            " |-- winddir: double (nullable = true)\n",
            " |-- sealevelpressure: double (nullable = true)\n",
            " |-- cloudcover: double (nullable = true)\n",
            " |-- visibility: double (nullable = true)\n",
            " |-- solarradiation: double (nullable = true)\n",
            " |-- solarenergy: double (nullable = true)\n",
            " |-- uvindex: integer (nullable = true)\n",
            " |-- severerisk: integer (nullable = true)\n",
            " |-- sunrise: timestamp (nullable = true)\n",
            " |-- sunset: timestamp (nullable = true)\n",
            " |-- moonphase: double (nullable = true)\n",
            " |-- conditions: string (nullable = true)\n",
            " |-- description: string (nullable = true)\n",
            " |-- icon: string (nullable = true)\n",
            " |-- stations: string (nullable = true)\n",
            "\n"
          ]
        }
      ],
      "source": [
        "merged_df.printSchema()"
      ]
    },
    {
      "cell_type": "markdown",
      "metadata": {
        "id": "Fn7Cj7eYIAwK"
      },
      "source": [
        "# Correlatip Heat Map between Columns in the final dataframe."
      ]
    },
    {
      "cell_type": "code",
      "execution_count": 25,
      "metadata": {
        "colab": {
          "base_uri": "https://localhost:8080/",
          "height": 648
        },
        "id": "O15y0-BEgE6m",
        "outputId": "30636f9b-40c3-4200-9883-ab82fd38c19b"
      },
      "outputs": [
        {
          "data": {
            "image/png": "[encoded data removed]",
            "text/plain": [
              "<Figure size 800x600 with 2 Axes>"
            ]
          },
          "metadata": {},
          "output_type": "display_data"
        }
      ],
      "source": [
        "import matplotlib.pyplot as plt\n",
        "import seaborn as sns\n",
        "from pyspark.ml.stat import Correlation\n",
        "from pyspark.ml.feature import VectorAssembler\n",
        "from pyspark.sql import functions as F\n",
        "\n",
        "# Select numerical columns (you can specify your columns or use a subset of columns)\n",
        "numerical_columns = [col for col, dtype in merged_df.dtypes if dtype in ['int', 'double']]\n",
        "\n",
        "# Assemble the numerical features into a single vector column\n",
        "assembler = VectorAssembler(inputCols=numerical_columns, outputCol=\"features\")\n",
        "merged_df_with_features = assembler.transform(merged_df)\n",
        "\n",
        "# Compute the correlation matrix\n",
        "correlation_matrix = Correlation.corr(merged_df_with_features, 'features').head()[0]\n",
        "\n",
        "# Convert the correlation matrix to a Pandas DataFrame\n",
        "import numpy as np\n",
        "import pandas as pd\n",
        "\n",
        "# Convert the correlation matrix to a numpy array\n",
        "corr_array = correlation_matrix.toArray()\n",
        "\n",
        "# Convert the numpy array to a pandas DataFrame for easier plotting\n",
        "corr_df = pd.DataFrame(corr_array, columns=numerical_columns, index=numerical_columns)\n",
        "\n",
        "# Plot the heatmap\n",
        "plt.figure(figsize=(8, 6))\n",
        "sns.heatmap(corr_df, annot=False, cmap='coolwarm', linewidths=0.5)\n",
        "plt.title('Correlation Heatmap')\n",
        "plt.show()"
      ]
    },
    {
      "cell_type": "markdown",
      "metadata": {
        "id": "oDo8KxprIIaB"
      },
      "source": [
        "# Removing some heavily corelated columns and considering only important features."
      ]
    },
    {
      "cell_type": "code",
      "execution_count": 37,
      "metadata": {
        "colab": {
          "base_uri": "https://localhost:8080/"
        },
        "id": "iDSUG0ZiiFbs",
        "outputId": "671b6f21-ddb3-47ec-f892-fa31fee590e3"
      },
      "outputs": [
        {
          "name": "stdout",
          "output_type": "stream",
          "text": [
            "Shape of the DataFrame: (472885, 21)\n"
          ]
        }
      ],
      "source": [
        "required_columns = [\"mean_latitude\", \"mean_longitude\", \"ride_count\", \"is_weekday\", \"is_holiday\", \"temp\", \"humidity\", \"precip\", \"precipprob\",\n",
        "                   \"precipcover\", \"snow\", \"snowdepth\", \"windgust\", \"windspeed\", \"winddir\", \"sealevelpressure\", \"cloudcover\",\n",
        "                   \"visibility\", \"solarenergy\", \"severerisk\", \"moonphase\"]\n",
        "\n",
        "# Select the required columns from the merged DataFrame\n",
        "merged_df_filtered = merged_df.select(*required_columns)\n",
        "\n",
        "# Get the number of rows and columns\n",
        "num_rows = merged_df_filtered.count()\n",
        "num_columns = len(merged_df_filtered.columns)\n",
        "\n",
        "# Print the shape\n",
        "print(f\"Shape of the DataFrame: ({num_rows}, {num_columns})\")"
      ]
    },
    {
      "cell_type": "code",
      "execution_count": 38,
      "metadata": {
        "colab": {
          "base_uri": "https://localhost:8080/"
        },
        "id": "751imfVkir50",
        "outputId": "54c9bf05-13c3-4249-9120-8c0927b28bc8"
      },
      "outputs": [
        {
          "name": "stdout",
          "output_type": "stream",
          "text": [
            "+------------------+------------------+----------+----------+----------+----+--------+------+----------+-----------+----+---------+--------+---------+-------+----------------+----------+----------+-----------+----------+---------+\n",
            "|     mean_latitude|    mean_longitude|ride_count|is_weekday|is_holiday|temp|humidity|precip|precipprob|precipcover|snow|snowdepth|windgust|windspeed|winddir|sealevelpressure|cloudcover|visibility|solarenergy|severerisk|moonphase|\n",
            "+------------------+------------------+----------+----------+----------+----+--------+------+----------+-----------+----+---------+--------+---------+-------+----------------+----------+----------+-----------+----------+---------+\n",
            "|41.919944054546505|-87.64884828432706|        18|         0|         1| 3.0|    75.0| 3.027|       100|      16.67| 0.0|      2.6|    66.7|     35.2|  250.8|          1003.8|      95.5|      14.4|        4.9|        10|     0.34|\n",
            "| 41.94304117507918|-87.68730012686402|         4|         1|         0|11.1|    69.0|15.091|       100|      33.33| 0.0|      0.0|    63.2|     36.4|  232.0|           999.7|      94.9|      13.8|       11.3|        10|     0.18|\n",
            "|41.878124090182766|-87.64404281296741|        10|         1|         0|-5.6|    62.3|   0.0|         0|        0.0| 0.0|      0.0|    43.9|     26.1|  334.9|          1031.7|      80.7|      14.8|        8.4|        10|     0.75|\n",
            "|41.878124090182766|-87.64404281296741|        30|         0|         0| 3.0|    63.2| 0.092|       100|       4.17| 0.0|      0.0|    36.4|     21.2|  325.8|          1016.3|      65.5|      15.0|       15.4|        10|      0.0|\n",
            "| 41.87593901364749|-87.63068336039059|        11|         1|         0|12.3|    72.2|22.331|       100|      54.17| 0.0|      0.0|    49.5|     29.9|  173.6|           997.0|      97.5|      11.9|        1.8|        10|     0.94|\n",
            "+------------------+------------------+----------+----------+----------+----+--------+------+----------+-----------+----+---------+--------+---------+-------+----------------+----------+----------+-----------+----------+---------+\n",
            "only showing top 5 rows\n",
            "\n"
          ]
        }
      ],
      "source": [
        "merged_df_filtered = merged_df_filtered.withColumn(\n",
        "    \"is_holiday\",\n",
        "    F.when(merged_df_filtered[\"is_holiday\"] == True, 1).otherwise(0)\n",
        ")\n",
        "\n",
        "# Show the transformed DataFrame\n",
        "merged_df_filtered.show(5)"
      ]
    },
    {
      "cell_type": "code",
      "execution_count": 39,
      "metadata": {
        "colab": {
          "base_uri": "https://localhost:8080/"
        },
        "id": "NNc2Mfvnk25j",
        "outputId": "fbfbb9da-0053-4c3b-facc-0616b03a12fb"
      },
      "outputs": [
        {
          "name": "stdout",
          "output_type": "stream",
          "text": [
            "root\n",
            " |-- mean_latitude: double (nullable = true)\n",
            " |-- mean_longitude: double (nullable = true)\n",
            " |-- ride_count: long (nullable = false)\n",
            " |-- is_weekday: integer (nullable = false)\n",
            " |-- is_holiday: integer (nullable = false)\n",
            " |-- temp: double (nullable = true)\n",
            " |-- humidity: double (nullable = true)\n",
            " |-- precip: double (nullable = true)\n",
            " |-- precipprob: integer (nullable = true)\n",
            " |-- precipcover: double (nullable = true)\n",
            " |-- snow: double (nullable = true)\n",
            " |-- snowdepth: double (nullable = true)\n",
            " |-- windgust: double (nullable = false)\n",
            " |-- windspeed: double (nullable = true)\n",
            " |-- winddir: double (nullable = true)\n",
            " |-- sealevelpressure: double (nullable = true)\n",
            " |-- cloudcover: double (nullable = true)\n",
            " |-- visibility: double (nullable = true)\n",
            " |-- solarenergy: double (nullable = true)\n",
            " |-- severerisk: integer (nullable = true)\n",
            " |-- moonphase: double (nullable = true)\n",
            "\n"
          ]
        }
      ],
      "source": [
        "merged_df_filtered.printSchema()"
      ]
    },
    {
      "cell_type": "markdown",
      "metadata": {
        "id": "e24MNuUaITPA"
      },
      "source": [
        "# Random Forest Regressor Model"
      ]
    },
    {
      "cell_type": "code",
      "execution_count": 40,
      "metadata": {
        "colab": {
          "base_uri": "https://localhost:8080/"
        },
        "id": "3Ulzy8b6irCY",
        "outputId": "3fa8427a-4654-4191-cfa7-0a9d58f08cdb"
      },
      "outputs": [
        {
          "name": "stdout",
          "output_type": "stream",
          "text": [
            "Root Mean Squared Error (RMSE): 22.89626906531526\n",
            "R-squared (R2): 0.45822097034612785\n"
          ]
        }
      ],
      "source": [
        "from pyspark.ml.regression import RandomForestRegressor\n",
        "from pyspark.ml.evaluation import RegressionEvaluator\n",
        "from pyspark.ml.feature import VectorAssembler\n",
        "from pyspark.sql import functions as F\n",
        "\n",
        "label_column = 'ride_count'\n",
        "feature_columns = [col for col in merged_df_filtered.columns if col != label_column]\n",
        "\n",
        "# Ensure that train_data and test_data have the same columns (features)\n",
        "train_data = merged_df_filtered.select(*feature_columns, label_column).filter(col(label_column).isNotNull())\n",
        "test_data = merged_df_filtered.select(*feature_columns, label_column).filter(col(label_column).isNotNull())\n",
        "\n",
        "# Assemble the features into a single vector column\n",
        "assembler = VectorAssembler(inputCols=feature_columns, outputCol=\"features\")\n",
        "assembled_train_data = assembler.transform(train_data)\n",
        "assembled_test_data = assembler.transform(test_data)\n",
        "\n",
        "# Initialize the RandomForestRegressor model\n",
        "rf = RandomForestRegressor(featuresCol=\"features\", labelCol=label_column, numTrees=100, seed=42)\n",
        "\n",
        "# Train the model\n",
        "rf_model = rf.fit(assembled_train_data)\n",
        "\n",
        "# Make predictions on the test data\n",
        "predictions = rf_model.transform(assembled_test_data)\n",
        "\n",
        "# Evaluate the model\n",
        "evaluator_rmse = RegressionEvaluator(labelCol=label_column, predictionCol=\"prediction\", metricName=\"rmse\")\n",
        "evaluator_r2 = RegressionEvaluator(labelCol=label_column, predictionCol=\"prediction\", metricName=\"r2\")\n",
        "\n",
        "rmse = evaluator_rmse.evaluate(predictions)\n",
        "r2 = evaluator_r2.evaluate(predictions)\n",
        "\n",
        "# Print the evaluation metrics\n",
        "print(f\"Root Mean Squared Error (RMSE): {rmse}\")\n",
        "print(f\"R-squared (R2): {r2}\")"
      ]
    },
    {
      "cell_type": "markdown",
      "metadata": {
        "id": "0JOS8aXgIXTF"
      },
      "source": [
        "# Gradient Bossing Tree Regressor Model"
      ]
    },
    {
      "cell_type": "code",
      "execution_count": 41,
      "metadata": {
        "colab": {
          "base_uri": "https://localhost:8080/"
        },
        "id": "9o6O0doFia58",
        "outputId": "3213b2a6-6186-41a3-a406-ab2a227dbf5f"
      },
      "outputs": [
        {
          "name": "stdout",
          "output_type": "stream",
          "text": [
            "Root Mean Squared Error (RMSE): 16.43360924885722\n",
            "R-squared (R2): 0.7209007538162548\n"
          ]
        }
      ],
      "source": [
        "from pyspark.ml.regression import GBTRegressor\n",
        "\n",
        "gbt = GBTRegressor(featuresCol=\"features\", labelCol=label_column, maxIter=100, seed=42)\n",
        "\n",
        "# Train the model\n",
        "gbt_model = gbt.fit(assembled_train_data)\n",
        "\n",
        "# Make predictions on the test data\n",
        "predictions = gbt_model.transform(assembled_test_data)\n",
        "\n",
        "# Evaluate the model\n",
        "evaluator_rmse = RegressionEvaluator(labelCol=label_column, predictionCol=\"prediction\", metricName=\"rmse\")\n",
        "evaluator_r2 = RegressionEvaluator(labelCol=label_column, predictionCol=\"prediction\", metricName=\"r2\")\n",
        "\n",
        "rmse = evaluator_rmse.evaluate(predictions)\n",
        "r2 = evaluator_r2.evaluate(predictions)\n",
        "\n",
        "# Print the evaluation metrics\n",
        "print(f\"Root Mean Squared Error (RMSE): {rmse}\")\n",
        "print(f\"R-squared (R2): {r2}\")"
      ]
    },
    {
      "cell_type": "markdown",
      "metadata": {
        "id": "VChxC1AbIdjl"
      },
      "source": [
        "# Decision Tree Regression model"
      ]
    },
    {
      "cell_type": "code",
      "execution_count": 43,
      "metadata": {
        "colab": {
          "base_uri": "https://localhost:8080/"
        },
        "id": "SMJpXfmz9oT0",
        "outputId": "8e4064ab-2070-48c6-8466-71ee4893f985"
      },
      "outputs": [
        {
          "name": "stdout",
          "output_type": "stream",
          "text": [
            "Root Mean Squared Error (RMSE): 22.176116919798588\n",
            "R-squared (R2): 0.4917659519951417\n"
          ]
        }
      ],
      "source": [
        "from pyspark.ml.regression import DecisionTreeRegressor\n",
        "from pyspark.ml.evaluation import RegressionEvaluator\n",
        "\n",
        "# Initialize the DecisionTreeRegressor\n",
        "dt = DecisionTreeRegressor(featuresCol=\"features\", labelCol=label_column, maxDepth=5, seed=42)\n",
        "\n",
        "# Train the model\n",
        "dt_model = dt.fit(assembled_train_data)\n",
        "\n",
        "# Make predictions on the test data\n",
        "predictions = dt_model.transform(assembled_test_data)\n",
        "\n",
        "# Evaluate the model\n",
        "evaluator_rmse = RegressionEvaluator(labelCol=label_column, predictionCol=\"prediction\", metricName=\"rmse\")\n",
        "evaluator_r2 = RegressionEvaluator(labelCol=label_column, predictionCol=\"prediction\", metricName=\"r2\")\n",
        "\n",
        "rmse = evaluator_rmse.evaluate(predictions)\n",
        "r2 = evaluator_r2.evaluate(predictions)\n",
        "\n",
        "# Print the evaluation metrics\n",
        "print(f\"Root Mean Squared Error (RMSE): {rmse}\")\n",
        "print(f\"R-squared (R2): {r2}\")"
      ]
    },
    {
      "cell_type": "markdown",
      "metadata": {
        "id": "E2rWFVx9Ihwg"
      },
      "source": [
        "# Linear Regression Model"
      ]
    },
    {
      "cell_type": "code",
      "execution_count": 45,
      "metadata": {
        "colab": {
          "base_uri": "https://localhost:8080/"
        },
        "id": "yFWraivCrOo4",
        "outputId": "e1f582cf-7bd5-4d69-d0c0-3f4b5f63a705"
      },
      "outputs": [
        {
          "name": "stdout",
          "output_type": "stream",
          "text": [
            "Root Mean Squared Error (RMSE): 27.9370607521981\n",
            "R-squared (R2): 0.19340750761812697\n"
          ]
        }
      ],
      "source": [
        "from pyspark.ml.regression import LinearRegression\n",
        "\n",
        "# Initialize the LinearRegression model\n",
        "lr = LinearRegression(featuresCol=\"features\", labelCol=label_column, maxIter=100, regParam=0.0, elasticNetParam=0.0)\n",
        "\n",
        "# Train the model\n",
        "lr_model = lr.fit(assembled_train_data)\n",
        "\n",
        "# Make predictions on the test data\n",
        "predictions = lr_model.transform(assembled_test_data)\n",
        "\n",
        "# Evaluate the model\n",
        "evaluator_rmse = RegressionEvaluator(labelCol=label_column, predictionCol=\"prediction\", metricName=\"rmse\")\n",
        "evaluator_r2 = RegressionEvaluator(labelCol=label_column, predictionCol=\"prediction\", metricName=\"r2\")\n",
        "\n",
        "rmse = evaluator_rmse.evaluate(predictions)\n",
        "r2 = evaluator_r2.evaluate(predictions)\n",
        "\n",
        "# Print the evaluation metrics\n",
        "print(f\"Root Mean Squared Error (RMSE): {rmse}\")\n",
        "print(f\"R-squared (R2): {r2}\")"
      ]
    }
  ],
  "metadata": {
    "accelerator": "GPU",
    "colab": {
      "gpuType": "T4",
      "provenance": []
    },
    "kernelspec": {
      "display_name": "Python 3",
      "name": "python3"
    },
    "language_info": {
      "name": "python"
    }
  },
  "nbformat": 4,
  "nbformat_minor": 0
}
